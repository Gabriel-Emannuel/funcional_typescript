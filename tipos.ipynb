{
 "cells": [
  {
   "cell_type": "markdown",
   "metadata": {},
   "source": [
    "# Tipos primitivos; var, let e const; e Object type\n",
    "\n",
    "## Var, let e const\n",
    " \n",
    " explicação no arquivo var_let_const.js"
   ]
  },
  {
   "cell_type": "code",
   "execution_count": 3,
   "id": "698b08a1",
   "metadata": {},
   "outputs": [
    {
     "ename": "Error",
     "evalue": "Conflict with a committed line: \nfunction f1() {\n_________^\nTS2393: Duplicate function implementation.\n\nConflict with a committed line: \nfunction f2() {\n_________^\nTS2393: Duplicate function implementation.\n\nLine 2, Character 10\nfunction f1() {\n_________^\nTS2393: Duplicate function implementation.\n\nLine 10, Character 10\nfunction f2() {\n_________^\nTS2393: Duplicate function implementation.",
     "output_type": "error",
     "traceback": [
      "Error: Conflict with a committed line: ",
      "function f1() {",
      "_________^",
      "TS2393: Duplicate function implementation.",
      "",
      "Conflict with a committed line: ",
      "function f2() {",
      "_________^",
      "TS2393: Duplicate function implementation.",
      "",
      "Line 2, Character 10",
      "function f1() {",
      "_________^",
      "TS2393: Duplicate function implementation.",
      "",
      "Line 10, Character 10",
      "function f2() {",
      "_________^",
      "TS2393: Duplicate function implementation.",
      "    at execTranspile (/opt/node-v20.17.0-linux-x64/lib/node_modules/itypescript/lib/kernel.js:229:23)",
      "    at Session.transpiler [as transpile] (/opt/node-v20.17.0-linux-x64/lib/node_modules/itypescript/lib/kernel.js:288:35)",
      "    at Session._runNow (/opt/node-v20.17.0-linux-x64/lib/node_modules/itypescript/node_modules/nel/lib/nel.js:835:39)",
      "    at Session._run (/opt/node-v20.17.0-linux-x64/lib/node_modules/itypescript/node_modules/nel/lib/nel.js:786:14)",
      "    at Session.execute (/opt/node-v20.17.0-linux-x64/lib/node_modules/itypescript/node_modules/nel/lib/nel.js:929:10)",
      "    at Kernel.execute_request (/opt/node-v20.17.0-linux-x64/lib/node_modules/itypescript/node_modules/jp-kernel/lib/handlers_v5.js:116:18)",
      "    at Kernel.onShellMessage (/opt/node-v20.17.0-linux-x64/lib/node_modules/itypescript/node_modules/jp-kernel/lib/jp-kernel.js:285:41)",
      "    at Socket.<anonymous> (/opt/node-v20.17.0-linux-x64/lib/node_modules/itypescript/node_modules/jmp/index.js:350:17)",
      "    at Socket.emit (node:events:519:28)",
      "    at Socket._emitMessage (/opt/node-v20.17.0-linux-x64/lib/node_modules/itypescript/node_modules/zeromq/lib/index.js:649:15)"
     ]
    }
   ],
   "source": [
    "// diferença entre de escopo (no arquivo var_let_const.js)\n",
    "function f1() {\n",
    "    var a1 = 12;\n",
    "    \n",
    "    for (var i = 0; i < 5; i++)\n",
    "        console.log(a1);\n",
    "}\n",
    "\n",
    "\n",
    "function f2() {\n",
    "    let a1 = 12;\n",
    "    \n",
    "    for (let i = 0; i < 5; i++)\n",
    "        console.log(a1);\n",
    "}"
   ]
  },
  {
   "cell_type": "markdown",
   "id": "23d0ef31",
   "metadata": {
    "lines_to_next_cell": 0
   },
   "source": [
    "# Tipos em javascript/typescript\n",
    "\n",
    "# Javascript\n",
    "\n",
    "É uma linguagem dinamicamente tipada.\n",
    "\n",
    "## Tipos primitivos\n",
    "\n",
    "    - boolean\n",
    "    - null\n",
    "    - undefined\n",
    "    - number (double-precision IEEE) \n",
    "        - Infinity\n",
    "        - (-Infinity)\n",
    "        - Nan\n",
    "    - string\n",
    "    - symbol (ECMAScript 6)\n",
    "    - object\n",
    "\n",
    "## Coerções\n",
    "\n",
    "    - string\n",
    "    operador + \n",
    "    demais operadores\n"
   ]
  },
  {
   "cell_type": "code",
   "execution_count": 6,
   "id": "4173a1da",
   "metadata": {
    "lines_to_next_cell": 2
   },
   "outputs": [
    {
     "ename": "Error",
     "evalue": "Line 7, Character 13\nconsole.log(numeroStr1 - numeroStr2);\n____________^\nTS2362: The left-hand side of an arithmetic operation must be of type 'any', 'number', 'bigint' or an enum type.\n\nLine 7, Character 26\nconsole.log(numeroStr1 - numeroStr2);\n_________________________^\nTS2363: The right-hand side of an arithmetic operation must be of type 'any', 'number', 'bigint' or an enum type.\n\nLine 8, Character 13\nconsole.log(numeroStr1 * numeroStr2);\n____________^\nTS2362: The left-hand side of an arithmetic operation must be of type 'any', 'number', 'bigint' or an enum type.\n\nLine 8, Character 26\nconsole.log(numeroStr1 * numeroStr2);\n_________________________^\nTS2363: The right-hand side of an arithmetic operation must be of type 'any', 'number', 'bigint' or an enum type.\n\nLine 9, Character 13\nconsole.log(numeroStr1 / numeroStr2);\n____________^\nTS2362: The left-hand side of an arithmetic operation must be of type 'any', 'number', 'bigint' or an enum type.\n\nLine 9, Character 26\nconsole.log(numeroStr1 / numeroStr2);\n_________________________^\nTS2363: The right-hand side of an arithmetic operation must be of type 'any', 'number', 'bigint' or an enum type.",
     "output_type": "error",
     "traceback": [
      "Error: Line 7, Character 13",
      "console.log(numeroStr1 - numeroStr2);",
      "____________^",
      "TS2362: The left-hand side of an arithmetic operation must be of type 'any', 'number', 'bigint' or an enum type.",
      "",
      "Line 7, Character 26",
      "console.log(numeroStr1 - numeroStr2);",
      "_________________________^",
      "TS2363: The right-hand side of an arithmetic operation must be of type 'any', 'number', 'bigint' or an enum type.",
      "",
      "Line 8, Character 13",
      "console.log(numeroStr1 * numeroStr2);",
      "____________^",
      "TS2362: The left-hand side of an arithmetic operation must be of type 'any', 'number', 'bigint' or an enum type.",
      "",
      "Line 8, Character 26",
      "console.log(numeroStr1 * numeroStr2);",
      "_________________________^",
      "TS2363: The right-hand side of an arithmetic operation must be of type 'any', 'number', 'bigint' or an enum type.",
      "",
      "Line 9, Character 13",
      "console.log(numeroStr1 / numeroStr2);",
      "____________^",
      "TS2362: The left-hand side of an arithmetic operation must be of type 'any', 'number', 'bigint' or an enum type.",
      "",
      "Line 9, Character 26",
      "console.log(numeroStr1 / numeroStr2);",
      "_________________________^",
      "TS2363: The right-hand side of an arithmetic operation must be of type 'any', 'number', 'bigint' or an enum type.",
      "    at execTranspile (/opt/node-v20.17.0-linux-x64/lib/node_modules/itypescript/lib/kernel.js:229:23)",
      "    at Session.transpiler [as transpile] (/opt/node-v20.17.0-linux-x64/lib/node_modules/itypescript/lib/kernel.js:288:35)",
      "    at Session._runNow (/opt/node-v20.17.0-linux-x64/lib/node_modules/itypescript/node_modules/nel/lib/nel.js:835:39)",
      "    at Session._run (/opt/node-v20.17.0-linux-x64/lib/node_modules/itypescript/node_modules/nel/lib/nel.js:786:14)",
      "    at Session.execute (/opt/node-v20.17.0-linux-x64/lib/node_modules/itypescript/node_modules/nel/lib/nel.js:929:10)",
      "    at Kernel.execute_request (/opt/node-v20.17.0-linux-x64/lib/node_modules/itypescript/node_modules/jp-kernel/lib/handlers_v5.js:116:18)",
      "    at Kernel.onShellMessage (/opt/node-v20.17.0-linux-x64/lib/node_modules/itypescript/node_modules/jp-kernel/lib/jp-kernel.js:285:41)",
      "    at Socket.<anonymous> (/opt/node-v20.17.0-linux-x64/lib/node_modules/itypescript/node_modules/jmp/index.js:350:17)",
      "    at Socket.emit (node:events:519:28)",
      "    at Socket._emitMessage (/opt/node-v20.17.0-linux-x64/lib/node_modules/itypescript/node_modules/zeromq/lib/index.js:649:15)"
     ]
    }
   ],
   "source": [
    "// exemplo string_operadores\n",
    "var numeroStr1 = \"5.57\";\n",
    "var numeroStr2 = \"5.57\";\n",
    "console.log(numeroStr1 + numeroStr2);\n",
    "console.log(+numeroStr1 + numeroStr2);\n",
    "console.log(+numeroStr1 + +numeroStr2);\n",
    "\n",
    "console.log(numeroStr1 - numeroStr2);\n",
    "console.log(numeroStr1 * numeroStr2);\n",
    "console.log(numeroStr1 / numeroStr2);"
   ]
  },
  {
   "cell_type": "markdown",
   "id": "66f599b5",
   "metadata": {
    "lines_to_next_cell": 0
   },
   "source": [
    "## Tipos literais\n",
    "\n",
    "    - Array\n",
    "    - booleans\n",
    "    - ponto flutuante\n",
    "    - inteiros\n",
    "    - objeto\n",
    "    - string\n"
   ]
  },
  {
   "cell_type": "code",
   "execution_count": 7,
   "id": "ca43f45e",
   "metadata": {},
   "outputs": [
    {
     "name": "stdout",
     "output_type": "stream",
     "text": [
      "[ 'eda', <1 empty item>, 'funcional' ]\n",
      "[ <1 empty item>, 'eda', <1 empty item>, 'funcional' ]\n",
      "[ <1 empty item>, 'eda', <1 empty item>, 'funcional', <1 empty item> ]\n",
      "[]\n",
      "0\n",
      "[ 'João' ]\n",
      "1\n",
      "[ 'João', 'Letícia' ]\n",
      "2\n",
      "[ 'João', 'Letícia', <5 empty items>, 'Pedro' ]\n",
      "8\n"
     ]
    },
    {
     "data": {
      "text/plain": [
       "undefined"
      ]
     },
     "execution_count": 7,
     "metadata": {},
     "output_type": "execute_result"
    }
   ],
   "source": [
    "var disciplinas = [\"eda\", , \"funcional\"];\n",
    "console.log(disciplinas);\n",
    "var disciplinas = [, \"eda\", , \"funcional\",];\n",
    "console.log(disciplinas);\n",
    "var disciplinas = [, \"eda\", , \"funcional\", ,];\n",
    "console.log(disciplinas);\n",
    "\n",
    "\n",
    "// Array\n",
    "var nomes = [];\n",
    "console.log(nomes);\n",
    "console.log(nomes.length);\n",
    "\n",
    "nomes[0] = \"João\";\n",
    "console.log(nomes);\n",
    "console.log(nomes.length);\n",
    "\n",
    "nomes[1] = \"Letícia\";\n",
    "console.log(nomes);\n",
    "console.log(nomes.length);\n",
    "\n",
    "nomes[7] = \"Pedro\";\n",
    "console.log(nomes);\n",
    "console.log(nomes.length);\n",
    "\n",
    "// nomes[\"enzo\"] = \"Olá\";\n",
    "// nomes[\"fe\"] = \"oi\";\n",
    "// nomes[\"ze\"] = \"af\";\n"
   ]
  },
  {
   "cell_type": "code",
   "execution_count": 4,
   "id": "552c1ba8",
   "metadata": {},
   "outputs": [
    {
     "name": "stdout",
     "output_type": "stream",
     "text": [
      "8\n",
      "8\n",
      "10\n"
     ]
    },
    {
     "data": {
      "text/plain": [
       "undefined"
      ]
     },
     "execution_count": 4,
     "metadata": {},
     "output_type": "execute_result"
    }
   ],
   "source": [
    "// octal literal em javascript\n",
    "// console.log(07 + 01);\n",
    "\n",
    "// octal literal em typescript\n",
    "console.log(0o7 + 0o1);\n",
    "console.log(0o12);"
   ]
  },
  {
   "cell_type": "markdown",
   "id": "9db3ab8b",
   "metadata": {},
   "source": [
    "Objetos literais"
   ]
  },
  {
   "cell_type": "code",
   "execution_count": 13,
   "id": "bcdbd516",
   "metadata": {},
   "outputs": [
    {
     "ename": "Error",
     "evalue": "Line 5, Character 36\n    apresentacaoString: apresentar(nome, idade)\n___________________________________^\nTS2552: Cannot find name 'nome'. Did you mean 'nomes'?\n\nLine 5, Character 42\n    apresentacaoString: apresentar(nome, idade)\n_________________________________________^\nTS2304: Cannot find name 'idade'.\n\nLine 8, Character 24\nconsole.log(objExemplo.apresentacao());\n_______________________^\nTS2554: Expected 2 arguments, but got 0.\n\nLine 16, Character 12\nobjExemplo[ola] = 157;\n___________^\nTS2304: Cannot find name 'ola'.",
     "output_type": "error",
     "traceback": [
      "Error: Line 5, Character 36",
      "    apresentacaoString: apresentar(nome, idade)",
      "___________________________________^",
      "TS2552: Cannot find name 'nome'. Did you mean 'nomes'?",
      "",
      "Line 5, Character 42",
      "    apresentacaoString: apresentar(nome, idade)",
      "_________________________________________^",
      "TS2304: Cannot find name 'idade'.",
      "",
      "Line 8, Character 24",
      "console.log(objExemplo.apresentacao());",
      "_______________________^",
      "TS2554: Expected 2 arguments, but got 0.",
      "",
      "Line 16, Character 12",
      "objExemplo[ola] = 157;",
      "___________^",
      "TS2304: Cannot find name 'ola'.",
      "    at execTranspile (/opt/node-v20.17.0-linux-x64/lib/node_modules/itypescript/lib/kernel.js:229:23)",
      "    at Session.transpiler [as transpile] (/opt/node-v20.17.0-linux-x64/lib/node_modules/itypescript/lib/kernel.js:288:35)",
      "    at Session._runNow (/opt/node-v20.17.0-linux-x64/lib/node_modules/itypescript/node_modules/nel/lib/nel.js:835:39)",
      "    at Session._run (/opt/node-v20.17.0-linux-x64/lib/node_modules/itypescript/node_modules/nel/lib/nel.js:786:14)",
      "    at Session.execute (/opt/node-v20.17.0-linux-x64/lib/node_modules/itypescript/node_modules/nel/lib/nel.js:929:10)",
      "    at Kernel.execute_request (/opt/node-v20.17.0-linux-x64/lib/node_modules/itypescript/node_modules/jp-kernel/lib/handlers_v5.js:116:18)",
      "    at Kernel.onShellMessage (/opt/node-v20.17.0-linux-x64/lib/node_modules/itypescript/node_modules/jp-kernel/lib/jp-kernel.js:285:41)",
      "    at Socket.<anonymous> (/opt/node-v20.17.0-linux-x64/lib/node_modules/itypescript/node_modules/jmp/index.js:350:17)",
      "    at Socket.emit (node:events:519:28)",
      "    at Socket._emitMessage (/opt/node-v20.17.0-linux-x64/lib/node_modules/itypescript/node_modules/zeromq/lib/index.js:649:15)"
     ]
    }
   ],
   "source": [
    "var objExemplo = {\n",
    "    nome: \"Pedro\",\n",
    "    idade: 12,\n",
    "    apresentacao: apresentar,\n",
    "    apresentacaoString: apresentar(nome, idade)\n",
    "};\n",
    "\n",
    "console.log(objExemplo.apresentacao());\n",
    "console.log(objExemplo.apresentacaoString);\n",
    "\n",
    "function apresentar(nome, idade) {\n",
    "    return `Olá meu nome é ${nome} e minha idade é ${idade}`;\n",
    "}\n",
    "\n",
    "objExemplo[\"novaProp\"] = 12;\n",
    "objExemplo[ola] = 157;"
   ]
  },
  {
   "cell_type": "markdown",
   "metadata": {},
   "source": [
    "### Typescript types\n",
    "\n",
    "typescript adiciona checagem estática de tipos no código.\n",
    "Adiciona novos tipos: any, never, unknown.\n",
    "\n",
    "```bash\n",
    "npm install -g typescript\n",
    "```\n",
    "```bash\n",
    "tsc hello_world.ts\n",
    "```"
   ]
  },
  {
   "cell_type": "markdown",
   "metadata": {},
   "source": [
    "### Object types"
   ]
  },
  {
   "cell_type": "code",
   "execution_count": 5,
   "metadata": {},
   "outputs": [
    {
     "ename": "Error",
     "evalue": "Conflict with a committed line: \ntype DadoCorType = {\n_____^\nTS2300: Duplicate identifier 'DadoCorType'.\n\nLine 19, Character 6\ntype DadoCorType = {\n_____^\nTS2300: Duplicate identifier 'DadoCorType'.\n\nConflict with a committed line: \nfunction colorir1 (dado: { cor: string, opacidade: number }) {\n_________^\nTS2393: Duplicate function implementation.\n\nConflict with a committed line: \nfunction colorir2 (dado: DadoCor) {\n_________^\nTS2393: Duplicate function implementation.\n\nConflict with a committed line: \nfunction colorir3 (dado: DadoCorType) {\n_________^\nTS2393: Duplicate function implementation.\n\nLine 2, Character 10\nfunction colorir1 (dado: { cor: string, opacidade: number }) {\n_________^\nTS2393: Duplicate function implementation.\n\nLine 13, Character 10\nfunction colorir2 (dado: DadoCor) {\n_________^\nTS2393: Duplicate function implementation.\n\nLine 24, Character 10\nfunction colorir3 (dado: DadoCorType) {\n_________^\nTS2393: Duplicate function implementation.\n\nLine 48, Character 10\ncolorir3(dadoCorType);\n_________^\nTS2552: Cannot find name 'dadoCorType'. Did you mean 'dataCorType'?",
     "output_type": "error",
     "traceback": [
      "Error: Conflict with a committed line: ",
      "type DadoCorType = {",
      "_____^",
      "TS2300: Duplicate identifier 'DadoCorType'.",
      "",
      "Line 19, Character 6",
      "type DadoCorType = {",
      "_____^",
      "TS2300: Duplicate identifier 'DadoCorType'.",
      "",
      "Conflict with a committed line: ",
      "function colorir1 (dado: { cor: string, opacidade: number }) {",
      "_________^",
      "TS2393: Duplicate function implementation.",
      "",
      "Conflict with a committed line: ",
      "function colorir2 (dado: DadoCor) {",
      "_________^",
      "TS2393: Duplicate function implementation.",
      "",
      "Conflict with a committed line: ",
      "function colorir3 (dado: DadoCorType) {",
      "_________^",
      "TS2393: Duplicate function implementation.",
      "",
      "Line 2, Character 10",
      "function colorir1 (dado: { cor: string, opacidade: number }) {",
      "_________^",
      "TS2393: Duplicate function implementation.",
      "",
      "Line 13, Character 10",
      "function colorir2 (dado: DadoCor) {",
      "_________^",
      "TS2393: Duplicate function implementation.",
      "",
      "Line 24, Character 10",
      "function colorir3 (dado: DadoCorType) {",
      "_________^",
      "TS2393: Duplicate function implementation.",
      "",
      "Line 48, Character 10",
      "colorir3(dadoCorType);",
      "_________^",
      "TS2552: Cannot find name 'dadoCorType'. Did you mean 'dataCorType'?",
      "    at execTranspile (/opt/node-v20.17.0-linux-x64/lib/node_modules/itypescript/lib/kernel.js:229:23)",
      "    at Session.transpiler [as transpile] (/opt/node-v20.17.0-linux-x64/lib/node_modules/itypescript/lib/kernel.js:288:35)",
      "    at Session._runNow (/opt/node-v20.17.0-linux-x64/lib/node_modules/itypescript/node_modules/nel/lib/nel.js:835:39)",
      "    at Session._run (/opt/node-v20.17.0-linux-x64/lib/node_modules/itypescript/node_modules/nel/lib/nel.js:786:14)",
      "    at Session.execute (/opt/node-v20.17.0-linux-x64/lib/node_modules/itypescript/node_modules/nel/lib/nel.js:929:10)",
      "    at Kernel.execute_request (/opt/node-v20.17.0-linux-x64/lib/node_modules/itypescript/node_modules/jp-kernel/lib/handlers_v5.js:116:18)",
      "    at Kernel.onShellMessage (/opt/node-v20.17.0-linux-x64/lib/node_modules/itypescript/node_modules/jp-kernel/lib/jp-kernel.js:285:41)",
      "    at Socket.<anonymous> (/opt/node-v20.17.0-linux-x64/lib/node_modules/itypescript/node_modules/jmp/index.js:350:17)",
      "    at Socket.emit (node:events:519:28)",
      "    at Socket._emitMessage (/opt/node-v20.17.0-linux-x64/lib/node_modules/itypescript/node_modules/zeromq/lib/index.js:649:15)"
     ]
    }
   ],
   "source": [
    "// Anônimo\n",
    "// Exemplo em exemplo_object_type.ts\n",
    "function colorir1 (dado: { cor: string, opacidade: number }) {\n",
    "    console.log(dado.cor);\n",
    "    console.log(dado.opacidade);\n",
    "}\n",
    "\n",
    "// interface\n",
    "interface DadoCor {\n",
    "    cor: String;\n",
    "    opacidade: number;\n",
    "}\n",
    "\n",
    "function colorir2 (dado: DadoCor) {\n",
    "    console.log(dado.cor);\n",
    "    console.log(dado.opacidade);\n",
    "}\n",
    "\n",
    "// type\n",
    "type DadoCorType = {\n",
    "    cor: String;\n",
    "    opacidade: number;\n",
    "}\n",
    "\n",
    "function colorir3 (dado: DadoCorType) {\n",
    "    console.log(dado.cor);\n",
    "    console.log(dado.opacidade);\n",
    "}\n",
    "\n",
    "var data = {\n",
    "    cor: \"red\",\n",
    "    opacidade: 0.6\n",
    "};\n",
    "colorir1(data);\n",
    "colorir2(data);\n",
    "colorir3(data);\n",
    "\n",
    "var dadoCor: DadoCor = {\n",
    "    cor: \"green\",\n",
    "    opacidade: 1\n",
    "};\n",
    "colorir2(dadoCor);\n",
    "\n",
    "\n",
    "var dataCorType: DadoCorType = {\n",
    "    cor: \"blue\",\n",
    "    opacidade: 0.4\n",
    "};\n",
    "colorir3(dadoCorType);"
   ]
  },
  {
   "cell_type": "markdown",
   "metadata": {},
   "source": [
    "- erros em propriedade obrigatórias;\n",
    "- propriedade opicionais\n",
    "- propriedade readonly\n",
    "```typescript\n",
    "interface Person = {\n",
    "    nome: string,\n",
    "    readonly profissao?: string\n",
    "};\n",
    "```\n",
    "- remoção de tipos no arquivo compilado"
   ]
  },
  {
   "cell_type": "code",
   "execution_count": 10,
   "metadata": {},
   "outputs": [
    {
     "ename": "Error",
     "evalue": "Conflict with a committed line: \ntype Dicionario = {\n_____^\nTS2300: Duplicate identifier 'Dicionario'.\n\nLine 1, Character 6\ntype Dicionario = {\n_____^\nTS2300: Duplicate identifier 'Dicionario'.",
     "output_type": "error",
     "traceback": [
      "Error: Conflict with a committed line: ",
      "type Dicionario = {",
      "_____^",
      "TS2300: Duplicate identifier 'Dicionario'.",
      "",
      "Line 1, Character 6",
      "type Dicionario = {",
      "_____^",
      "TS2300: Duplicate identifier 'Dicionario'.",
      "    at execTranspile (/opt/node-v20.17.0-linux-x64/lib/node_modules/itypescript/lib/kernel.js:229:23)",
      "    at Session.transpiler [as transpile] (/opt/node-v20.17.0-linux-x64/lib/node_modules/itypescript/lib/kernel.js:288:35)",
      "    at Session._runNow (/opt/node-v20.17.0-linux-x64/lib/node_modules/itypescript/node_modules/nel/lib/nel.js:835:39)",
      "    at Session._run (/opt/node-v20.17.0-linux-x64/lib/node_modules/itypescript/node_modules/nel/lib/nel.js:786:14)",
      "    at Session.execute (/opt/node-v20.17.0-linux-x64/lib/node_modules/itypescript/node_modules/nel/lib/nel.js:929:10)",
      "    at Kernel.execute_request (/opt/node-v20.17.0-linux-x64/lib/node_modules/itypescript/node_modules/jp-kernel/lib/handlers_v5.js:116:18)",
      "    at Kernel.onShellMessage (/opt/node-v20.17.0-linux-x64/lib/node_modules/itypescript/node_modules/jp-kernel/lib/jp-kernel.js:285:41)",
      "    at Socket.<anonymous> (/opt/node-v20.17.0-linux-x64/lib/node_modules/itypescript/node_modules/jmp/index.js:350:17)",
      "    at Socket.emit (node:events:519:28)",
      "    at Socket._emitMessage (/opt/node-v20.17.0-linux-x64/lib/node_modules/itypescript/node_modules/zeromq/lib/index.js:649:15)"
     ]
    }
   ],
   "source": [
    "// exemplo em shape_type.ts\n",
    "type Dicionario = {\n",
    "    [index: string]: number\n",
    "};\n",
    "\n",
    "var d1: Dicionario = {};\n",
    "d1[\"abc\"] = 100;"
   ]
  },
  {
   "cell_type": "markdown",
   "metadata": {},
   "source": [
    "## Excess Property Checks\n",
    "\n",
    "exemplo em property_check.ts"
   ]
  },
  {
   "cell_type": "markdown",
   "metadata": {},
   "source": [
    "### Referências\n",
    "\n",
    "- https://www.typescriptlang.org/docs/handbook/2/objects.html\n",
    "- https://developer.mozilla.org/en-US/docs/Web/JavaScript/Guide/Grammar_and_types#data_structures_and_types"
   ]
  }
 ],
 "metadata": {
  "kernelspec": {
   "display_name": "Typescript 4.9",
   "language": "typescript",
   "name": "typescript"
  },
  "language_info": {
   "file_extension": ".ts",
   "mimetype": "application/x-typescript",
   "name": "typescript",
   "version": "4.9.5"
  }
 },
 "nbformat": 4,
 "nbformat_minor": 2
}
