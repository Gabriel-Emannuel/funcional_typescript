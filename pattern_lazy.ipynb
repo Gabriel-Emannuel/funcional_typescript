{
 "cells": [
  {
   "cell_type": "markdown",
   "metadata": {},
   "source": [
    "# Pattern Matching e Lazy Evaluation"
   ]
  },
  {
   "cell_type": "markdown",
   "metadata": {},
   "source": [
    "Conceitos a serem tratados:\n",
    "\n",
    "1. Pattern Matching:\n",
    "    * Conceito de atribuição via desestruturação;\n",
    "        * A partir de Arrays;\n",
    "        * A partir de objetos; \n",
    "\n",
    "2. Lazy Evaluation:\n",
    "    * Definição do tipo \"Lazy\";\n",
    "        * Variáveis;\n",
    "        * Funções;\n",
    "        * Estruturas de Dados;\n",
    "            * Infinitas;\n",
    "    * Computação análoga a lambda calculus;\n",
    "        * Comparação com a sintaxe de lambda calculus"
   ]
  },
  {
   "cell_type": "markdown",
   "metadata": {},
   "source": [
    "# Pattern Matching"
   ]
  },
  {
   "cell_type": "markdown",
   "metadata": {},
   "source": [
    "## O que é Atribuição via Desestruturação?"
   ]
  },
  {
   "cell_type": "markdown",
   "metadata": {},
   "source": [
    "A operação de atribuição é para salvar um valor em uma variável em tempo de execução, esta operação é da seguinte forma em typescript:\n",
    "\n",
    "```\n",
    "tres = 3;\n",
    "\n",
    "lista = [1,2,3];\n",
    "```\n",
    "\n",
    "Existem momentos que é necessário atribuir mais de uma variável para valores salvos em uma estrutura de dados, como por exemplo:\n",
    "\n",
    "```\n",
    "let primeiroValor, segundoValor, restoDaLista;\n",
    "\n",
    "primeiroValor = lista[0];\n",
    "\n",
    "segundoValor = lista[1];\n",
    "\n",
    "restoDaLista = lista.slice(2);\n",
    "```\n",
    "\n",
    "Vamos mostrar a sintaxe análoga em haskell:\n",
    "\n",
    "```\n",
    "separaLista lista = (primeiroValor, segundoValor, restoDaLista)\n",
    "    where\n",
    "        primeiroValor = lista !! 0\n",
    "        segundoValor = lista !! 1\n",
    "        restoDaLista = drop 2 lista\n",
    "```\n",
    "\n",
    "Utilizando o conceito de casamento de padrão em haskell, é possível escrever de forma reduzida:\n",
    "\n",
    "```\n",
    "separaLista lista = (primeiroValor, segundoValor, restoDaLista)\n",
    "    where\n",
    "        (primeiroValor: segundoValor: restoDaLista) = lista\n",
    "```\n",
    "\n",
    "O casamento de padrão neste caso ocorre da seguinte forma:\n",
    "    * Temos os dois pontos representando uma operação para geração de uma lista;\n",
    "    * Especificamos que a lista possui um primeiro valor, um segundo valor e dizemos que temos um resto da lista.\n",
    "\n",
    "Em Javascript/Typescript, existe este conceito de casamento de padrão, ilustrado a seguir:\n",
    "\n",
    "```\n",
    "[primeiroValor, segundoValor, ...restoDaLista] = lista;\n",
    "```\n",
    "\n",
    "A atribuição está sendo realizada da seguinte forma, estamos atribuindo o primeiroValor como o primeiro valor da lista e assim por diante, estes \"...\" antes do restoDaLista apenas especifica que existe uma lista presente.\n",
    "\n",
    "A seguir terá exemplos práticos com listas e com objetos"
   ]
  },
  {
   "cell_type": "markdown",
   "metadata": {},
   "source": [
    "Analogia ao casamento de padrão em haskell"
   ]
  },
  {
   "cell_type": "code",
   "execution_count": 1,
   "metadata": {},
   "outputs": [
    {
     "data": {
      "text/html": [
       "<div style='background:#ffecb3;padding:1em;border-left:2px solid #ff6d00'><b>Configuration is not found!</b> Default configuration will be used: <pre>{\"module\":1,\"target\":1,\"moduleResolution\":2,\"esModuleInterop\":true}</pre></div>"
      ]
     },
     "execution_count": 1,
     "metadata": {},
     "output_type": "execute_result"
    }
   ],
   "source": [
    "function separaLista(xs: number[]): [number, number[]] {\n",
    "    let x, tailXs;\n",
    "    [x, ...tailXs] = xs\n",
    "    return [x, tailXs] \n",
    "}"
   ]
  },
  {
   "cell_type": "code",
   "execution_count": 2,
   "metadata": {},
   "outputs": [
    {
     "data": {
      "text/plain": [
       "[ 1, [ 2, 3 ] ]"
      ]
     },
     "execution_count": 2,
     "metadata": {},
     "output_type": "execute_result"
    }
   ],
   "source": [
    "separaLista([1,2,3])"
   ]
  },
  {
   "cell_type": "code",
   "execution_count": 3,
   "metadata": {},
   "outputs": [
    {
     "data": {
      "text/plain": [
       "undefined"
      ]
     },
     "execution_count": 3,
     "metadata": {},
     "output_type": "execute_result"
    }
   ],
   "source": [
    "function separaLista2(xs: number[]): [number, number, number[]] {\n",
    "    let first, second, tail;\n",
    "    [first, second, ...tail] = xs;\n",
    "    return [first, second, tail];\n",
    "}"
   ]
  },
  {
   "cell_type": "code",
   "execution_count": 4,
   "metadata": {},
   "outputs": [
    {
     "data": {
      "text/plain": [
       "[ 1, 2, [ 3 ] ]"
      ]
     },
     "execution_count": 4,
     "metadata": {},
     "output_type": "execute_result"
    }
   ],
   "source": [
    "separaLista2([1,2,3])"
   ]
  },
  {
   "cell_type": "code",
   "execution_count": 5,
   "metadata": {},
   "outputs": [
    {
     "data": {
      "text/plain": [
       "undefined"
      ]
     },
     "execution_count": 5,
     "metadata": {},
     "output_type": "execute_result"
    }
   ],
   "source": [
    "function trocaValores(xs: [number, number]): [number, number] {\n",
    "    let [first, second] = xs;\n",
    "    return [second, first];\n",
    "}"
   ]
  },
  {
   "cell_type": "code",
   "execution_count": 6,
   "metadata": {},
   "outputs": [
    {
     "data": {
      "text/plain": [
       "[ 2, 1 ]"
      ]
     },
     "execution_count": 6,
     "metadata": {},
     "output_type": "execute_result"
    }
   ],
   "source": [
    "trocaValores([1,2])"
   ]
  },
  {
   "cell_type": "markdown",
   "metadata": {},
   "source": [
    "### Desconstrução a partir de objetos"
   ]
  },
  {
   "cell_type": "code",
   "execution_count": 7,
   "metadata": {},
   "outputs": [
    {
     "data": {
      "text/plain": [
       "undefined"
      ]
     },
     "execution_count": 7,
     "metadata": {},
     "output_type": "execute_result"
    }
   ],
   "source": [
    "interface objeto {\n",
    "    mensagem: string,\n",
    "    descricao: string,\n",
    "    tipo: string\n",
    "}"
   ]
  },
  {
   "cell_type": "code",
   "execution_count": 8,
   "metadata": {},
   "outputs": [
    {
     "data": {
      "text/plain": [
       "undefined"
      ]
     },
     "execution_count": 8,
     "metadata": {},
     "output_type": "execute_result"
    }
   ],
   "source": [
    "const objetoBase: objeto = {\n",
    "    \"mensagem\": \"sou um objeto\",\n",
    "    \"descricao\": \"nao tenho\",\n",
    "    \"tipo\": \"json\"\n",
    "};"
   ]
  },
  {
   "cell_type": "code",
   "execution_count": 9,
   "metadata": {},
   "outputs": [
    {
     "data": {
      "text/plain": [
       "undefined"
      ]
     },
     "execution_count": 9,
     "metadata": {},
     "output_type": "execute_result"
    }
   ],
   "source": [
    "function pegaAtributos(objetoBase: objeto): [string, string, string] {\n",
    "    let {mensagem, descricao, tipo} = objetoBase\n",
    "    return [mensagem, descricao, tipo]\n",
    "}"
   ]
  },
  {
   "cell_type": "code",
   "execution_count": 10,
   "metadata": {},
   "outputs": [
    {
     "data": {
      "text/plain": [
       "[ 'sou um objeto', 'nao tenho', 'json' ]"
      ]
     },
     "execution_count": 10,
     "metadata": {},
     "output_type": "execute_result"
    }
   ],
   "source": [
    "pegaAtributos(objetoBase)"
   ]
  },
  {
   "cell_type": "code",
   "execution_count": 11,
   "metadata": {},
   "outputs": [
    {
     "data": {
      "text/plain": [
       "undefined"
      ]
     },
     "execution_count": 11,
     "metadata": {},
     "output_type": "execute_result"
    }
   ],
   "source": [
    "function pegarAtributos2(objetoBase: objeto): [string, string] {\n",
    "    let {mensagem, descricao} = objetoBase\n",
    "    return [mensagem, descricao]\n",
    "}"
   ]
  },
  {
   "cell_type": "code",
   "execution_count": 12,
   "metadata": {},
   "outputs": [
    {
     "data": {
      "text/plain": [
       "[ 'sou um objeto', 'nao tenho' ]"
      ]
     },
     "execution_count": 12,
     "metadata": {},
     "output_type": "execute_result"
    }
   ],
   "source": [
    "pegarAtributos2(objetoBase)"
   ]
  },
  {
   "cell_type": "code",
   "execution_count": 13,
   "metadata": {},
   "outputs": [
    {
     "data": {
      "text/plain": [
       "undefined"
      ]
     },
     "execution_count": 13,
     "metadata": {},
     "output_type": "execute_result"
    }
   ],
   "source": [
    "function pegarAtributos3(objetoBase: objeto): [string] {\n",
    "    let {\"mensagem\": mensagem} = objetoBase;\n",
    "\n",
    "    return [mensagem];\n",
    "}"
   ]
  },
  {
   "cell_type": "code",
   "execution_count": 14,
   "metadata": {},
   "outputs": [
    {
     "data": {
      "text/plain": [
       "[ 'sou um objeto' ]"
      ]
     },
     "execution_count": 14,
     "metadata": {},
     "output_type": "execute_result"
    }
   ],
   "source": [
    "pegarAtributos3(objetoBase)"
   ]
  },
  {
   "cell_type": "markdown",
   "metadata": {},
   "source": [
    "# Lazy Evaluation"
   ]
  },
  {
   "cell_type": "markdown",
   "metadata": {},
   "source": [
    "definição de tipo lazy"
   ]
  },
  {
   "cell_type": "code",
   "execution_count": 15,
   "metadata": {},
   "outputs": [
    {
     "data": {
      "text/plain": [
       "undefined"
      ]
     },
     "execution_count": 15,
     "metadata": {},
     "output_type": "execute_result"
    }
   ],
   "source": [
    "type Lazy<T> = () => T | null"
   ]
  },
  {
   "cell_type": "markdown",
   "metadata": {},
   "source": [
    "função lazy"
   ]
  },
  {
   "cell_type": "code",
   "execution_count": 16,
   "metadata": {},
   "outputs": [
    {
     "data": {
      "text/plain": [
       "undefined"
      ]
     },
     "execution_count": 16,
     "metadata": {},
     "output_type": "execute_result"
    }
   ],
   "source": [
    "function geraLazy<T>(x: T): Lazy<T> {\n",
    "    return () => x;\n",
    "}"
   ]
  },
  {
   "cell_type": "code",
   "execution_count": 17,
   "metadata": {},
   "outputs": [
    {
     "name": "stdout",
     "output_type": "stream",
     "text": [
      "variavelTeste: 10\n",
      "variavelTesteLazy: function () { return x; }\n",
      "variavelTesteLazy avaliada: 10\n"
     ]
    },
    {
     "data": {
      "text/plain": [
       "undefined"
      ]
     },
     "execution_count": 17,
     "metadata": {},
     "output_type": "execute_result"
    }
   ],
   "source": [
    "let x = 10;\n",
    "\n",
    "let variavelTeste = x;\n",
    "\n",
    "let variavelTesteLazy = geraLazy(x);\n",
    "\n",
    "console.log(`variavelTeste: ${variavelTeste}`);\n",
    "\n",
    "console.log(`variavelTesteLazy: ${variavelTesteLazy}`);\n",
    "\n",
    "console.log(`variavelTesteLazy avaliada: ${variavelTesteLazy()}`);\n"
   ]
  },
  {
   "cell_type": "code",
   "execution_count": 18,
   "metadata": {},
   "outputs": [
    {
     "data": {
      "text/plain": [
       "undefined"
      ]
     },
     "execution_count": 18,
     "metadata": {},
     "output_type": "execute_result"
    }
   ],
   "source": [
    "function somaNormal(a: number, b: number): number {\n",
    "    return a + b;\n",
    "}\n",
    "\n",
    "function somaLazy(a: Lazy<number>, b: Lazy<number>): Lazy<Number> {\n",
    "    return geraLazy(a() + b());\n",
    "}"
   ]
  },
  {
   "cell_type": "code",
   "execution_count": 19,
   "metadata": {},
   "outputs": [
    {
     "name": "stdout",
     "output_type": "stream",
     "text": [
      "Soma normal: 3\n",
      "Soma lazy sem ser avaliada: function () { return x; }\n",
      "Soma lazy sendo avaliada: 3\n"
     ]
    },
    {
     "data": {
      "text/plain": [
       "undefined"
      ]
     },
     "execution_count": 19,
     "metadata": {},
     "output_type": "execute_result"
    }
   ],
   "source": [
    "let a = 1;\n",
    "let b = 2;\n",
    "\n",
    "let somaNormalValor = somaNormal(1,2);\n",
    "let somaLazyValor = somaLazy(geraLazy(a), geraLazy(b));\n",
    "\n",
    "console.log(`Soma normal: ${somaNormalValor}`);\n",
    "console.log(`Soma lazy sem ser avaliada: ${somaLazyValor}`);\n",
    "console.log(`Soma lazy sendo avaliada: ${somaLazyValor()}`);"
   ]
  },
  {
   "cell_type": "markdown",
   "metadata": {},
   "source": [
    "estrutura de dados lazy"
   ]
  },
  {
   "cell_type": "code",
   "execution_count": 20,
   "metadata": {},
   "outputs": [
    {
     "data": {
      "text/plain": [
       "undefined"
      ]
     },
     "execution_count": 20,
     "metadata": {},
     "output_type": "execute_result"
    }
   ],
   "source": [
    "type LazyList<T> = Lazy<{\n",
    "    head: Lazy<T>,\n",
    "    tail: LazyList<T>\n",
    "}> | null"
   ]
  },
  {
   "cell_type": "code",
   "execution_count": 21,
   "metadata": {},
   "outputs": [
    {
     "data": {
      "text/plain": [
       "undefined"
      ]
     },
     "execution_count": 21,
     "metadata": {},
     "output_type": "execute_result"
    }
   ],
   "source": [
    "function geraLazyList<T>(lista: T[]): LazyList<T> {\n",
    "    if (lista.length == 0) {\n",
    "        return () => {\n",
    "            return {\n",
    "                head: null,\n",
    "                tail: null\n",
    "            }\n",
    "        };\n",
    "\n",
    "    }\n",
    "\n",
    "    let [x, ...xs] = lista;\n",
    "\n",
    "    return geraLazy({\n",
    "        head: () => x,\n",
    "        tail: geraLazyList(xs)\n",
    "    });\n",
    "}"
   ]
  },
  {
   "cell_type": "code",
   "execution_count": 22,
   "metadata": {},
   "outputs": [
    {
     "data": {
      "text/plain": [
       "undefined"
      ]
     },
     "execution_count": 22,
     "metadata": {},
     "output_type": "execute_result"
    }
   ],
   "source": [
    "var range = (i: Lazy<number>): LazyList<number> => {\n",
    "    \n",
    "    return () => { return {\n",
    "        head: i,\n",
    "        tail: range(() => i() + 1)\n",
    "        }\n",
    "    };\n",
    "}"
   ]
  },
  {
   "cell_type": "code",
   "execution_count": 23,
   "metadata": {},
   "outputs": [
    {
     "data": {
      "text/plain": [
       "undefined"
      ]
     },
     "execution_count": 23,
     "metadata": {},
     "output_type": "execute_result"
    }
   ],
   "source": [
    "function toList<T>(lista: LazyList<T>): T[] {\n",
    "    let listaAvaliada = lista();\n",
    "    \n",
    "    if (listaAvaliada.head == null) return [];\n",
    "\n",
    "    let head = listaAvaliada.head;\n",
    "\n",
    "    let tail = toList(listaAvaliada.tail);\n",
    "\n",
    "    return [head(), ...tail];\n",
    "}"
   ]
  },
  {
   "cell_type": "code",
   "execution_count": 24,
   "metadata": {},
   "outputs": [
    {
     "data": {
      "text/plain": [
       "undefined"
      ]
     },
     "execution_count": 24,
     "metadata": {},
     "output_type": "execute_result"
    }
   ],
   "source": [
    "function insertLazy<T>(lista: LazyList<T>, elemento: Lazy<T>): LazyList<T> {\n",
    "    \n",
    "    let listaAvaliada = lista();\n",
    "\n",
    "    if (listaAvaliada.head == null) {\n",
    "        \n",
    "        listaAvaliada.head = elemento;\n",
    "        listaAvaliada.tail = geraLazyList([]);\n",
    "        \n",
    "        return () => listaAvaliada;\n",
    "    }\n",
    "\n",
    "    return geraLazy({\n",
    "        head: listaAvaliada.head,\n",
    "        tail: insertLazy(listaAvaliada.tail, elemento)\n",
    "    });\n",
    "    \n",
    "}"
   ]
  },
  {
   "cell_type": "code",
   "execution_count": 25,
   "metadata": {},
   "outputs": [
    {
     "data": {
      "text/plain": [
       "undefined"
      ]
     },
     "execution_count": 25,
     "metadata": {},
     "output_type": "execute_result"
    }
   ],
   "source": [
    "function containsLazy<T>(lista: LazyList<T>, elemento: Lazy<T>): boolean {\n",
    "\n",
    "    let listaAvaliada = lista();\n",
    "\n",
    "    if (listaAvaliada.head == null)\n",
    "        return false;\n",
    "\n",
    "    return listaAvaliada == elemento() || containsLazy(listaAvaliada.tail, elemento);\n",
    "}"
   ]
  },
  {
   "cell_type": "code",
   "execution_count": 26,
   "metadata": {},
   "outputs": [
    {
     "data": {
      "text/plain": [
       "undefined"
      ]
     },
     "execution_count": 26,
     "metadata": {},
     "output_type": "execute_result"
    }
   ],
   "source": [
    "function removeLazy<T>(lista: LazyList<T>, elemento: Lazy<T>): LazyList<T> {\n",
    "\n",
    "    let listaAvaliada = lista()\n",
    "\n",
    "    if (listaAvaliada?.head() === elemento)\n",
    "        return listaAvaliada.tail;\n",
    "\n",
    "    return geraLazy({\n",
    "        head: listaAvaliada?.head,\n",
    "        tail: removeLazy(listaAvaliada?.tail, elemento)\n",
    "    });\n",
    "\n",
    "}"
   ]
  },
  {
   "cell_type": "code",
   "execution_count": 27,
   "metadata": {},
   "outputs": [
    {
     "data": {
      "text/plain": [
       "undefined"
      ]
     },
     "execution_count": 27,
     "metadata": {},
     "output_type": "execute_result"
    }
   ],
   "source": [
    "function takeLazy<T>(lista: LazyList<T>, i: number): LazyList<T> {\n",
    "    \n",
    "    if (i < 0 || lista().head === null)\n",
    "        return geraLazyList([]);\n",
    "\n",
    "    return () => {\n",
    "        return {\n",
    "            head: lista().head,\n",
    "            tail: takeLazy(lista().tail, i-1)\n",
    "        };\n",
    "    }\n",
    "\n",
    "}"
   ]
  },
  {
   "cell_type": "code",
   "execution_count": 28,
   "metadata": {},
   "outputs": [
    {
     "data": {
      "text/plain": [
       "undefined"
      ]
     },
     "execution_count": 28,
     "metadata": {},
     "output_type": "execute_result"
    }
   ],
   "source": [
    "function dropLazy<T>(lista: LazyList<T>, i: number): LazyList<T> {\n",
    "\n",
    "    let listaAvaliada = lista();\n",
    "    \n",
    "    if (listaAvaliada.head === null)\n",
    "        return geraLazyList([]);\n",
    "\n",
    "    if (i == 0)\n",
    "        return lista;\n",
    "\n",
    "    return dropLazy(listaAvaliada.tail, i-1);\n",
    "\n",
    "}"
   ]
  },
  {
   "cell_type": "markdown",
   "metadata": {},
   "source": [
    "### Sandbox"
   ]
  },
  {
   "cell_type": "code",
   "execution_count": 29,
   "metadata": {},
   "outputs": [
    {
     "data": {
      "text/plain": [
       "undefined"
      ]
     },
     "execution_count": 29,
     "metadata": {},
     "output_type": "execute_result"
    }
   ],
   "source": [
    "var listaLazy = geraLazyList([1,2,3])"
   ]
  },
  {
   "cell_type": "code",
   "execution_count": 35,
   "metadata": {},
   "outputs": [
    {
     "data": {
      "text/plain": [
       "[ 2, 3 ]"
      ]
     },
     "execution_count": 35,
     "metadata": {},
     "output_type": "execute_result"
    }
   ],
   "source": [
    "toList(dropLazy(listaLazy, 1))"
   ]
  },
  {
   "cell_type": "code",
   "execution_count": 34,
   "metadata": {},
   "outputs": [
    {
     "data": {
      "text/plain": [
       "[\n",
       "   3,   4,   5,   6,  7,  8,  9, 10, 11, 12, 13, 14,\n",
       "  15,  16,  17,  18, 19, 20, 21, 22, 23, 24, 25, 26,\n",
       "  27,  28,  29,  30, 31, 32, 33, 34, 35, 36, 37, 38,\n",
       "  39,  40,  41,  42, 43, 44, 45, 46, 47, 48, 49, 50,\n",
       "  51,  52,  53,  54, 55, 56, 57, 58, 59, 60, 61, 62,\n",
       "  63,  64,  65,  66, 67, 68, 69, 70, 71, 72, 73, 74,\n",
       "  75,  76,  77,  78, 79, 80, 81, 82, 83, 84, 85, 86,\n",
       "  87,  88,  89,  90, 91, 92, 93, 94, 95, 96, 97, 98,\n",
       "  99, 100, 101, 102\n",
       "]"
      ]
     },
     "execution_count": 34,
     "metadata": {},
     "output_type": "execute_result"
    }
   ],
   "source": [
    "toList(takeLazy(range(() => 3), 99))"
   ]
  },
  {
   "cell_type": "markdown",
   "metadata": {},
   "source": [
    "## Avaliação Lazy análoga a lambda calculus"
   ]
  },
  {
   "cell_type": "code",
   "execution_count": 31,
   "metadata": {},
   "outputs": [
    {
     "data": {
      "text/plain": [
       "undefined"
      ]
     },
     "execution_count": 31,
     "metadata": {},
     "output_type": "execute_result"
    }
   ],
   "source": [
    "function andLazy(a: Lazy<boolean>, b: Lazy<boolean>): Lazy<Boolean> {\n",
    "    if (!a()) return geraLazy(false);\n",
    "    return b;\n",
    "}"
   ]
  },
  {
   "cell_type": "code",
   "execution_count": 32,
   "metadata": {},
   "outputs": [
    {
     "data": {
      "text/plain": [
       "undefined"
      ]
     },
     "execution_count": 32,
     "metadata": {},
     "output_type": "execute_result"
    }
   ],
   "source": [
    "function orLazy(a: Lazy<boolean>, b: Lazy<boolean>): Lazy<Boolean> {\n",
    "    if (a()) return geraLazy(true);\n",
    "    return b;\n",
    "}"
   ]
  },
  {
   "cell_type": "code",
   "execution_count": 33,
   "metadata": {},
   "outputs": [
    {
     "data": {
      "text/plain": [
       "undefined"
      ]
     },
     "execution_count": 33,
     "metadata": {},
     "output_type": "execute_result"
    }
   ],
   "source": [
    "function xorLazy(a: Lazy<boolean>, b: Lazy<boolean>): Lazy<Boolean> {\n",
    "    let avaliadoA = a();\n",
    "\n",
    "    if (!a()) return geraLazy(false);\n",
    "\n",
    "    return geraLazy(avaliadoA !== b());\n",
    "}"
   ]
  }
 ],
 "metadata": {
  "kernelspec": {
   "display_name": "Typescript 4.9",
   "language": "typescript",
   "name": "typescript"
  },
  "language_info": {
   "file_extension": ".ts",
   "mimetype": "application/x-typescript",
   "name": "typescript",
   "version": "4.9.5"
  }
 },
 "nbformat": 4,
 "nbformat_minor": 2
}
