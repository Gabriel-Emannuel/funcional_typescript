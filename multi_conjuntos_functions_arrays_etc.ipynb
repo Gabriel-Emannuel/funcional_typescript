{
 "cells": [
  {
   "cell_type": "markdown",
   "id": "d0752ec0-d049-4b60-9922-24f5077cd315",
   "metadata": {},
   "source": [
    "# Multiset\n",
    "\n",
    "- Um **Multiset** (ou **conjunto multivalorado**) é uma generalização do conceito de um conjunto que permite que os elementos apareçam mais de uma vez. Diferente de um conjunto comum (**um set, por exemplo**), onde cada elemento pode aparecer no máximo uma vez, em um multiset, cada elemento pode ter uma **multiplicidade** que indica o número de vezes que ele está presente.\n",
    "\n",
    "**Exemplo:**\n",
    "  Dado dois conjuntos A e B, onde:\n",
    "- **`A = { a, b, c, d, e, f, g }`**\n",
    "- **`B = { a, a, b, b, c, c, e, e, f, f, g, g }`**\n",
    "      \n",
    "- Em um **Set**, para verificar se dois conjuntos são iguais, podemos usar uma função que recebe esses dois conjuntos como parâmetros e retorna `true` se eles forem iguais ou `false` caso contrário. Essa função retornará `true` quando os conjuntos A e B tiverem exatamente os mesmos elementos, independentemente da ordem ou da frequência dos elementos. Em outras palavras, a igualdade de conjuntos em um **Set** se baseia na presença dos mesmos elementos em ambos os conjuntos, sem considerar quantas vezes cada elemento aparece. Dito isso, o resultado dessa função recebendo A e B como parâmetro seria `true`.\n",
    "- Porém, caso replicarmos esse mesmo experimento em um **Multiset** o resultado seria diferente, pois em nosso conjunto multivalorado é permitido a existência de mais de um elemento repetido e a sua frequência é levado em consideração. Nesse caso, podemos usar essa mesma função que recebe esses dois conjuntos como parâmetros e retorna `true` se eles forem iguais ou `false` caso contrário. Assim, a função retornará `true` quando os conjuntos A e B tiverem os mesmos elementos com a MESMA frequência. Assim, o retorno da função em um **Multiset** passando o conjunto A e B como parâmetros seria `false`.\n",
    "\n",
    "_OBS: Para Implementar essa função irei utilizar 'function' que é o próximo tópico da apresentação!_\n",
    "\n",
    "## Implementação em TypeScript\n",
    "\n",
    "A classe `Multiset<T>` em TypeScript é uma implementação de um multiset que usa um `Map` para armazenar os elementos e suas respectivas contagens:\n",
    "\n",
    "- **`private elements: Map<T, number>`**: Um mapa que associa cada elemento do tipo `T` ao número de ocorrências (ou contagem) desse elemento no multiset.\n",
    "\n",
    "- **`constructor()`**: Inicializa um novo `Map` vazio para armazenar os elementos.\n",
    "\n",
    "- **`exists(element: T): boolean`**: Verifica se o elemento existe no multiset. Retorna `true` se o elemento estiver presente e `false` caso contrário.\n",
    "\n",
    "- **`add(element: T): void`**: Adiciona um elemento ao multiset. Se o elemento já existir, incrementa sua contagem. Caso contrário, adiciona o elemento com uma contagem inicial de 1.\n",
    "\n",
    "- **`remove(element: T): boolean`**: Remove uma ocorrência do elemento do multiset. Se o elemento tiver mais de uma ocorrência, decrementa sua contagem. Se tiver exatamente uma ocorrência, remove o elemento do `Map`. Retorna `true` se o elemento foi removido ou `false` se o elemento não estava presente.\n",
    "\n",
    "- **`count(element: T): number`**: Retorna o número de vezes que o elemento especificado está presente no multiset."
   ]
  },
  {
   "cell_type": "code",
   "execution_count": 1,
   "id": "5611e7b6-1127-48a9-8beb-7b4d43233bce",
   "metadata": {},
   "outputs": [
    {
     "data": {
      "text/plain": [
       "'Criação da Classe Multiset ;-)'"
      ]
     },
     "execution_count": 1,
     "metadata": {},
     "output_type": "execute_result"
    }
   ],
   "source": [
    "class Multiset<T> {\n",
    "    private elements: Map<T, number>;\n",
    "    public length: number;\n",
    "    \n",
    "    constructor() {\n",
    "        this.elements = new Map<T, number>();\n",
    "        this.length = 0;\n",
    "    }\n",
    "\n",
    "    exists(element: T): boolean {\n",
    "        return this.elements.has(element);\n",
    "    }\n",
    "\n",
    "    add(element: T): void {\n",
    "        if (this.exists(element)) {\n",
    "            this.elements.set(element, this.elements.get(element)! + 1);\n",
    "        } else {\n",
    "            this.elements.set(element, 1);\n",
    "        }\n",
    "        this.length++;\n",
    "    }\n",
    "\n",
    "    remove(element: T): boolean {\n",
    "        let result = false;\n",
    "        if (this.exists(element)) {\n",
    "            const count = this.elements.get(element)!;\n",
    "            if (count > 1) {\n",
    "                this.elements.set(element, count - 1);\n",
    "            } else {\n",
    "                this.elements.delete(element);\n",
    "            }\n",
    "            this.length--;\n",
    "            result = true;\n",
    "        }\n",
    "        return result;\n",
    "    }\n",
    "\n",
    "    count(element: T): number {\n",
    "        return this.elements.get(element) || 0;\n",
    "    }\n",
    "}\n",
    "`Criação da Classe Multiset ;-)`"
   ]
  },
  {
   "cell_type": "code",
   "execution_count": 2,
   "id": "6e59695c-81bc-4973-a112-c1b9f23b5c8c",
   "metadata": {},
   "outputs": [
    {
     "data": {
      "text/plain": [
       "undefined"
      ]
     },
     "execution_count": 2,
     "metadata": {},
     "output_type": "execute_result"
    }
   ],
   "source": [
    "const multiset = new Multiset<string>();\n",
    "multiset.add(\"maça\");\n",
    "multiset.add(\"banana\");\n",
    "multiset.add(\"maça\");"
   ]
  },
  {
   "cell_type": "code",
   "execution_count": 3,
   "id": "aa72709c-187f-471e-8495-59a987343d59",
   "metadata": {},
   "outputs": [
    {
     "data": {
      "text/plain": [
       "'Frequência da palavra \"maça\" no multiset: 2'"
      ]
     },
     "execution_count": 3,
     "metadata": {},
     "output_type": "execute_result"
    }
   ],
   "source": [
    "`Frequência da palavra \"maça\" no multiset: ${multiset.count(\"maça\")}`;"
   ]
  },
  {
   "cell_type": "code",
   "execution_count": 4,
   "id": "aa8f3183-4ff0-44a6-a07c-8502441cab30",
   "metadata": {},
   "outputs": [
    {
     "data": {
      "text/plain": [
       "'Frequência da palavra \"banana\" no multiset: 1'"
      ]
     },
     "execution_count": 4,
     "metadata": {},
     "output_type": "execute_result"
    }
   ],
   "source": [
    "`Frequência da palavra \"banana\" no multiset: ${multiset.count(\"banana\")}`;"
   ]
  },
  {
   "cell_type": "code",
   "execution_count": 5,
   "id": "bc15d778-9a57-494d-b141-4e5ff0381528",
   "metadata": {},
   "outputs": [
    {
     "data": {
      "text/plain": [
       "'Tamanho do Multiset: 3'"
      ]
     },
     "execution_count": 5,
     "metadata": {},
     "output_type": "execute_result"
    }
   ],
   "source": [
    "`Tamanho do Multiset: ${multiset.length}`;"
   ]
  },
  {
   "cell_type": "markdown",
   "id": "c505c31a-c32e-4ee8-92d8-7ac71e0747e7",
   "metadata": {},
   "source": [
    "# Functions\n",
    "\n",
    "## O que são Functions?\n",
    "\n",
    "Functions (ou Funções) em Typescript são blocos de código projetados para executar uma tarefa específica. Elas recebem entradas, processam essas entradas e retornam uma saída. Em TypeScript, as funções são fundamentais para a construção de qualquer aplicação, seja como funções locais, importadas de outro módulo ou métodos em uma classe.\n",
    "\n",
    "## Sintaxe Básica\n",
    "\n",
    "A forma mais simples de declarar uma função em TypeScript é usando a palavra-chave `function`:"
   ]
  },
  {
   "cell_type": "code",
   "execution_count": 6,
   "id": "fdc3541e-f3fb-459f-b794-ce0effeb20b1",
   "metadata": {},
   "outputs": [
    {
     "data": {
      "text/plain": [
       "'Hello, Turma de Funcional!'"
      ]
     },
     "execution_count": 6,
     "metadata": {},
     "output_type": "execute_result"
    }
   ],
   "source": [
    "function greet(name: string): string {\n",
    "    return `Hello, ${name}!`;\n",
    "}\n",
    "greet(\"Turma de Funcional\");"
   ]
  },
  {
   "cell_type": "markdown",
   "id": "7837a88c-6af9-4231-8224-c278abe62962",
   "metadata": {},
   "source": [
    "## Funções com Tipos de Retorno Inferidos\n",
    "\n",
    "Você pode omitir o tipo de retorno se TypeScript puder inferir o tipo automaticamente:"
   ]
  },
  {
   "cell_type": "code",
   "execution_count": 7,
   "id": "788dddbb-8a0e-4500-96c1-bdccdb1bbd52",
   "metadata": {},
   "outputs": [
    {
     "data": {
      "text/plain": [
       "'5 + 3 = 8'"
      ]
     },
     "execution_count": 7,
     "metadata": {},
     "output_type": "execute_result"
    }
   ],
   "source": [
    "function add(x: number, y: number) {\n",
    "  return x + y; // TypeScript infere o tipo de retorno como number\n",
    "}\n",
    "\n",
    "`5 + 3 = ${add(5, 3)}`;"
   ]
  },
  {
   "cell_type": "markdown",
   "id": "f6a98987-adf1-41d6-90d1-21eb45dd6c1e",
   "metadata": {},
   "source": [
    "## Funções com Tipos Genéricos\n",
    "\n",
    "Os tipos genéricos permitem criar funções que podem operar sobre diferentes tipos sem especificar os tipos concretos. No exemplo abaixo, temos uma função `identity` que usa um tipo genérico `T`, que é determinado em tempo de execução, note que a função é do tipo `T`, recebe um tipo `T` e retorna esse mesmo tipo `T`:"
   ]
  },
  {
   "cell_type": "code",
   "execution_count": 8,
   "id": "d99a61af-3241-4a64-bfbb-bce398f8d8ae",
   "metadata": {},
   "outputs": [
    {
     "data": {
      "text/plain": [
       "'Função Identity com o tipo number: 42'"
      ]
     },
     "execution_count": 8,
     "metadata": {},
     "output_type": "execute_result"
    }
   ],
   "source": [
    "function identity<T>(value: T): T {\n",
    "  return value;\n",
    "}\n",
    "\n",
    "`Função Identity com o tipo number: ${identity<number>(42)}`; // Output: 42"
   ]
  },
  {
   "cell_type": "code",
   "execution_count": 9,
   "id": "0fbef866-d72e-4101-8634-3f418acb9ef0",
   "metadata": {},
   "outputs": [
    {
     "data": {
      "text/plain": [
       "'Função Identity com o tipo string: Identidade'"
      ]
     },
     "execution_count": 9,
     "metadata": {},
     "output_type": "execute_result"
    }
   ],
   "source": [
    "`Função Identity com o tipo string: ${identity<string>('Identidade')}`; // Output: Identidade"
   ]
  },
  {
   "cell_type": "markdown",
   "id": "9e298054-3266-4ccb-aad9-8123ab1ac024",
   "metadata": {},
   "source": [
    "## Funções Genéricas com Múltiplos Tipos\n",
    "\n",
    "Você pode usar múltiplos parâmetros genéricos para criar funções mais complexas, a função `combine` aceita dois parâmetros de tipos **DIFERENTES** e retorna uma tupla contendo esses dois valores:"
   ]
  },
  {
   "cell_type": "code",
   "execution_count": 10,
   "id": "fe87ce4b-d24f-48a3-89de-26adb0cd97d7",
   "metadata": {},
   "outputs": [
    {
     "name": "stdout",
     "output_type": "stream",
     "text": [
      "[ 1, 'uva' ]\n"
     ]
    },
    {
     "data": {
      "text/plain": [
       "'Combinando o number 1 com a string \"uva\": 1,uva'"
      ]
     },
     "execution_count": 10,
     "metadata": {},
     "output_type": "execute_result"
    }
   ],
   "source": [
    "function combine<T, U>(a: T, b: U): [T, U] {\n",
    "  return [a, b];\n",
    "}\n",
    "\n",
    "const r1 = combine(1, \"uva\");\n",
    "console.log(r1); // Output: [1, \"uva\"]\n",
    "`Combinando o number 1 com a string \"uva\": ${ r1 }`; "
   ]
  },
  {
   "cell_type": "code",
   "execution_count": 11,
   "id": "b332d71f-f157-45cc-acdd-2aa4ded7f016",
   "metadata": {},
   "outputs": [
    {
     "name": "stdout",
     "output_type": "stream",
     "text": [
      "[ false, 10 ]\n"
     ]
    },
    {
     "data": {
      "text/plain": [
       "'Combinando o boolean false com o number 10: false,10'"
      ]
     },
     "execution_count": 11,
     "metadata": {},
     "output_type": "execute_result"
    }
   ],
   "source": [
    "const r2 = combine(false, 10);\n",
    "console.log(r2); // Output: [false, 10]\n",
    "`Combinando o boolean false com o number 10: ${ r2 }`; "
   ]
  },
  {
   "cell_type": "markdown",
   "id": "8b153023-5e1e-4ea1-b628-5ac79db67599",
   "metadata": {},
   "source": [
    "## Funções Genéricas com Restrições\n",
    "\n",
    "Você pode restringir os tipos genéricos para garantir que eles satisfaçam certas condições. A função `lengthOf` aceita um parâmetro que deve ter a propriedade `length`. Isso garante que a função possa ser usada tanto com strings, com arrays, ou com qualquer outro tipo que tenha a propriedade `length` definida:"
   ]
  },
  {
   "cell_type": "code",
   "execution_count": 12,
   "id": "7fb2a41d-8323-4b1e-8381-65c7199c841d",
   "metadata": {},
   "outputs": [
    {
     "data": {
      "text/plain": [
       "'Length de uma string: 5'"
      ]
     },
     "execution_count": 12,
     "metadata": {},
     "output_type": "execute_result"
    }
   ],
   "source": [
    "function lengthOf<T extends { length: number }>(item: T): number {\n",
    "  return item.length;\n",
    "}\n",
    "\n",
    "`Length de uma string: ${lengthOf('Hello')}`; // Output: 5"
   ]
  },
  {
   "cell_type": "code",
   "execution_count": 13,
   "id": "a57ad162-0d1f-4dc0-85c9-378ead316bdf",
   "metadata": {},
   "outputs": [
    {
     "data": {
      "text/plain": [
       "'Length de um array: 4'"
      ]
     },
     "execution_count": 13,
     "metadata": {},
     "output_type": "execute_result"
    }
   ],
   "source": [
    "`Length de um array: ${lengthOf([1, 7, 8, 2])}`; // Output: 4"
   ]
  },
  {
   "cell_type": "code",
   "execution_count": 14,
   "id": "e3e4fd6a-d108-4c89-88c7-dc9d56139335",
   "metadata": {},
   "outputs": [
    {
     "data": {
      "text/plain": [
       "'Length de um multiset: 3'"
      ]
     },
     "execution_count": 14,
     "metadata": {},
     "output_type": "execute_result"
    }
   ],
   "source": [
    "`Length de um multiset: ${lengthOf(multiset)}`; // Output: 3"
   ]
  },
  {
   "cell_type": "markdown",
   "id": "37cd08e9-5928-4262-88a5-b03e461cefe4",
   "metadata": {},
   "source": [
    "## Função genérica para verificar se dois multisets são iguais.\n",
    "\n",
    " * multisetA - Primeiro multiset a ser comparado.\n",
    " * multisetB - Segundo multiset a ser comparado.\n",
    " * return: `true` se os multisets são iguais, `false` caso contrário."
   ]
  },
  {
   "cell_type": "code",
   "execution_count": 15,
   "id": "f8c81731-9848-46c6-a820-4fe820d787ca",
   "metadata": {
    "scrolled": true
   },
   "outputs": [
    {
     "data": {
      "text/plain": [
       "'Igualdade entre MultiSetA e MultisetB: true'"
      ]
     },
     "execution_count": 15,
     "metadata": {},
     "output_type": "execute_result"
    }
   ],
   "source": [
    "function areMultisetsEqual<T>(multisetA: Multiset<T>, multisetB: Multiset<T>): boolean {\n",
    "    let result = false;\n",
    "    if (multisetA.length == multisetB.length) {\n",
    "        for (const [element, count] of multisetA['elements'].entries()) {\n",
    "            if (multisetB.count(element) == count) {\n",
    "                result = true;\n",
    "            }\n",
    "        }\n",
    "    }\n",
    "\n",
    "    return result; \n",
    "}\n",
    "const multisetA = new Multiset<string>();\n",
    "multisetA.add('abacate');\n",
    "multisetA.add('batata');\n",
    "multisetA.add('batata');\n",
    "\n",
    "const multisetB = new Multiset<string>();\n",
    "multisetB.add('batata');\n",
    "multisetB.add('abacate');\n",
    "multisetB.add('batata');\n",
    "\n",
    "`Igualdade entre MultiSetA e MultisetB: ${areMultisetsEqual(multisetA, multisetB)}`; // Output: true"
   ]
  },
  {
   "cell_type": "code",
   "execution_count": 16,
   "id": "c59c1767-87e6-4d69-b978-700c81ba4616",
   "metadata": {},
   "outputs": [
    {
     "data": {
      "text/plain": [
       "'Igualdade entre MultiSetA e MultisetC: false'"
      ]
     },
     "execution_count": 16,
     "metadata": {},
     "output_type": "execute_result"
    }
   ],
   "source": [
    "const multisetC = new Multiset<string>();\n",
    "multisetC.add('batata');\n",
    "multisetC.add('abacate');\n",
    "\n",
    "`Igualdade entre MultiSetA e MultisetC: ${areMultisetsEqual(multisetA, multisetC)}`; // Output: false"
   ]
  },
  {
   "cell_type": "markdown",
   "id": "0ddb5d44-e0e1-47c4-a0b8-dc93efb8cc9e",
   "metadata": {},
   "source": [
    "# Arrays\n",
    "\n",
    "Arrays em TypeScript podem ser definidos de várias maneiras, e podemos aplicar diferentes operações sobre eles.\n",
    "\n",
    "**Exemplo básico de arrays:**"
   ]
  },
  {
   "cell_type": "code",
   "execution_count": 17,
   "id": "1847bfd7-339b-4e8d-88e2-aeb7ba5ec32b",
   "metadata": {},
   "outputs": [
    {
     "name": "stdout",
     "output_type": "stream",
     "text": [
      "[ 1, 2, 3, 4, 5 ]\n",
      "[ 'abacate', 'banana', 'limao' ]\n",
      "[ 1, 'dois', 3, 'quatro' ]\n"
     ]
    },
    {
     "data": {
      "text/plain": [
       "'Exemplo 1'"
      ]
     },
     "execution_count": 17,
     "metadata": {},
     "output_type": "execute_result"
    }
   ],
   "source": [
    "// Array de números\n",
    "let numbers: number[] = [1, 2, 3, 4, 5];\n",
    "console.log(numbers); // Output: [1, 2, 3, 4, 5]\n",
    "\n",
    "// Array de strings\n",
    "let fruits: string[] = [\"abacate\", \"banana\", \"limao\"];\n",
    "console.log(fruits); // Output: [\"abacate\", \"banana\", \"limao\"]\n",
    "\n",
    "// Array com tipo genérico\n",
    "let mixedArray: Array<number | string> = [1, \"dois\", 3, \"quatro\"];\n",
    "console.log(mixedArray); // Output: [1, 'dois', 3, 'quatro']\n",
    "`Exemplo 1`;"
   ]
  },
  {
   "cell_type": "markdown",
   "id": "48c58094-18ea-4daa-bac8-ab1d7c5f8e9d",
   "metadata": {},
   "source": [
    "**Manipulação de arrays:**"
   ]
  },
  {
   "cell_type": "code",
   "execution_count": 18,
   "id": "c79b91f5-1290-4607-988f-ecbc7feae41b",
   "metadata": {},
   "outputs": [
    {
     "name": "stdout",
     "output_type": "stream",
     "text": [
      "[ 1, 2, 3, 4, 5, 6 ]\n",
      "[ 1, 'dois', 3, 'quatro', 'cinco' ]\n",
      "[ 1, 2, 3, 4, 5 ]\n",
      "3\n",
      "Iterando sobre um array de numeros\n",
      "1\n",
      "2\n",
      "3\n",
      "4\n",
      "5\n",
      "Iterando sobre um array de numeros ou string\n",
      "1\n",
      "dois\n",
      "3\n",
      "quatro\n",
      "cinco\n"
     ]
    },
    {
     "data": {
      "text/plain": [
       "'Exemplo 2'"
      ]
     },
     "execution_count": 18,
     "metadata": {},
     "output_type": "execute_result"
    }
   ],
   "source": [
    "// Adicionando elementos\n",
    "numbers.push(6);\n",
    "console.log(numbers); // Output: [1, 2, 3, 4, 5, 6]\n",
    "\n",
    "mixedArray.push(\"cinco\");\n",
    "console.log(mixedArray);\n",
    "\n",
    "// Removendo elementos\n",
    "numbers.pop();\n",
    "console.log(numbers); // Output: [1, 2, 3, 4, 5]\n",
    "\n",
    "// Acessando elementos\n",
    "console.log(numbers[2]); // Output: 3\n",
    "\n",
    "console.log(\"Iterando sobre um array de numeros\");\n",
    "for (let number of numbers) {\n",
    "    console.log(number);\n",
    "}\n",
    "\n",
    "console.log(\"Iterando sobre um array de numeros ou string\");\n",
    "for (let numberOrString of mixedArray) {\n",
    "    console.log(numberOrString);\n",
    "}\n",
    "\n",
    "`Exemplo 2`;"
   ]
  },
  {
   "cell_type": "markdown",
   "id": "3775b130-e243-4385-9e60-fe869aa4dc3d",
   "metadata": {},
   "source": [
    "# Any\n",
    "\n",
    "O tipo `any` é útil quando você não quer ou não pode especificar um tipo exato. Isso pode ser arriscado, pois desativa o sistema de tipos de TypeScript (com generics, o TypeScript ainda verifica a consistência dos tipos, o que ajuda a evitar erros)."
   ]
  },
  {
   "cell_type": "code",
   "execution_count": 19,
   "id": "ab21a742-4795-4b4c-9486-107b9da1af92",
   "metadata": {},
   "outputs": [
    {
     "name": "stdout",
     "output_type": "stream",
     "text": [
      "Test\n",
      "123\n",
      "[ 1, 2, 3 ]\n"
     ]
    },
    {
     "data": {
      "text/plain": [
       "'Exemplo 1'"
      ]
     },
     "execution_count": 19,
     "metadata": {},
     "output_type": "execute_result"
    }
   ],
   "source": [
    "function logValue(value: any): void {\n",
    "    console.log(value);\n",
    "}\n",
    "\n",
    "logValue(\"Test\"); // Output: Test\n",
    "logValue(123);    // Output: 123\n",
    "logValue([1, 2, 3]); // Output: [1, 2, 3]\n",
    "`Exemplo 1`"
   ]
  },
  {
   "cell_type": "code",
   "execution_count": 20,
   "id": "e4e35772-efe0-42fe-982a-df84ca0517a3",
   "metadata": {},
   "outputs": [
    {
     "data": {
      "text/plain": [
       "'Alguns Exemplos:'"
      ]
     },
     "execution_count": 20,
     "metadata": {},
     "output_type": "execute_result"
    }
   ],
   "source": [
    "function addEverything(a: any, b: any): void {\n",
    "    return a + b;\n",
    "}\n",
    "`Alguns Exemplos:`"
   ]
  },
  {
   "cell_type": "code",
   "execution_count": 21,
   "id": "410d83db-12d7-4165-bb15-3d7259465dbe",
   "metadata": {},
   "outputs": [
    {
     "name": "stdout",
     "output_type": "stream",
     "text": [
      "8\n"
     ]
    },
    {
     "data": {
      "text/plain": [
       "'5 + 3 = 8'"
      ]
     },
     "execution_count": 21,
     "metadata": {},
     "output_type": "execute_result"
    }
   ],
   "source": [
    "let s1 = addEverything(5, 3);\n",
    "console.log(s1);\n",
    "`5 + 3 = ${s1}`;"
   ]
  },
  {
   "cell_type": "code",
   "execution_count": 22,
   "id": "5ce4b0ed-7eac-46fa-8333-3b9e89263a71",
   "metadata": {},
   "outputs": [
    {
     "name": "stdout",
     "output_type": "stream",
     "text": [
      "JoaoMaria\n"
     ]
    },
    {
     "data": {
      "text/plain": [
       "'\"Joao\" + \"Maria\" = JoaoMaria'"
      ]
     },
     "execution_count": 22,
     "metadata": {},
     "output_type": "execute_result"
    }
   ],
   "source": [
    "let s2 = addEverything(\"Joao\", \"Maria\");\n",
    "console.log(s2);\n",
    "`\"Joao\" + \"Maria\" = ${s2}`;"
   ]
  },
  {
   "cell_type": "code",
   "execution_count": 23,
   "id": "46bfe4ff-3f36-40a5-a101-8854307e26ce",
   "metadata": {},
   "outputs": [
    {
     "name": "stdout",
     "output_type": "stream",
     "text": [
      "Joao50\n"
     ]
    },
    {
     "data": {
      "text/plain": [
       "'\"Joao\" + 50 = Joao50'"
      ]
     },
     "execution_count": 23,
     "metadata": {},
     "output_type": "execute_result"
    }
   ],
   "source": [
    "let s3 = addEverything(\"Joao\", 50);\n",
    "console.log(s3);\n",
    "`\"Joao\" + 50 = ${s3}`;"
   ]
  },
  {
   "cell_type": "code",
   "execution_count": 24,
   "id": "9266e6a2-34b2-41af-b929-aba389193516",
   "metadata": {},
   "outputs": [
    {
     "name": "stdout",
     "output_type": "stream",
     "text": [
      "Roger,MariaJoao\n"
     ]
    },
    {
     "data": {
      "text/plain": [
       "'[\"Roger\", \"Maria\"] + \"Joao\" = Roger,MariaJoao'"
      ]
     },
     "execution_count": 24,
     "metadata": {},
     "output_type": "execute_result"
    }
   ],
   "source": [
    "let s4 = addEverything([\"Roger\", \"Maria\"], \"Joao\");\n",
    "console.log(s4);\n",
    "`[\"Roger\", \"Maria\"] + \"Joao\" = ${s4}`;"
   ]
  },
  {
   "cell_type": "code",
   "execution_count": 25,
   "id": "d1c9776d-64f2-408f-96e5-544ccf6b0684",
   "metadata": {},
   "outputs": [
    {
     "name": "stdout",
     "output_type": "stream",
     "text": [
      "-110,20\n"
     ]
    },
    {
     "data": {
      "text/plain": [
       "'[10, 20] + -1 = -110,20'"
      ]
     },
     "execution_count": 25,
     "metadata": {},
     "output_type": "execute_result"
    }
   ],
   "source": [
    "let s5 = addEverything((-1), [10, 20]);\n",
    "console.log(s5);\n",
    "`[10, 20] + -1 = ${s5}`;"
   ]
  },
  {
   "cell_type": "markdown",
   "id": "dc3edd97-2c28-4932-aace-f1970d5ce9b8",
   "metadata": {},
   "source": [
    "# Never\n",
    "\n",
    "O tipo `never` indica que a função nunca retorna algo. Ou seja, funções que geram erro ou geram um loop infinito possuem o seu retorno definido como never."
   ]
  },
  {
   "cell_type": "markdown",
   "id": "2b576e68-7995-48a2-aac5-dd925877402c",
   "metadata": {},
   "source": [
    "## Exemplo:\n",
    "\n",
    "### `Never` X `Void`\n",
    "\n",
    "- O tipo `void` é usado para indicar que uma função não retorna nenhum valor. Isso é útil para funções que realizam uma operação, mas não precisam devolver um valor para o chamador.\n",
    "\n",
    "- O tipo `never` é usado para representar valores que nunca ocorrem. É utilizado em situações onde a função não pode completar normalmente, como funções que lançam exceções ou entram em loops infinitos."
   ]
  },
  {
   "cell_type": "code",
   "execution_count": 26,
   "id": "312a8a9b-30d6-4fc5-9fed-b25fff41f5e1",
   "metadata": {},
   "outputs": [
    {
     "name": "stdout",
     "output_type": "stream",
     "text": [
      "Retornou nada...\n"
     ]
    },
    {
     "ename": "Error",
     "evalue": "Deu errado...",
     "output_type": "error",
     "traceback": [
      "evalmachine.<anonymous>:6",
      "    throw new Error(message);",
      "    ^",
      "",
      "Error: Deu errado...",
      "    at throwError (evalmachine.<anonymous>:6:11)",
      "    at evalmachine.<anonymous>:8:1",
      "    at Script.runInThisContext (node:vm:136:12)",
      "    at Object.runInThisContext (node:vm:316:38)",
      "    at run ([eval]:1020:15)",
      "    at onRunRequest ([eval]:864:18)",
      "    at onMessage ([eval]:828:13)",
      "    at process.emit (node:events:519:28)",
      "    at emit (node:internal/child_process:951:14)",
      "    at process.processTicksAndRejections (node:internal/process/task_queues:83:21)"
     ]
    }
   ],
   "source": [
    "function logMessage(message: string): void {\n",
    "    console.log(message);\n",
    "}\n",
    "\n",
    "logMessage(\"Retornou nada...\");\n",
    "\n",
    "function throwError(message: string): never {\n",
    "    throw new Error(message);\n",
    "}\n",
    "\n",
    "throwError(\"Deu errado...\");"
   ]
  },
  {
   "cell_type": "markdown",
   "id": "1fec4efd-6af6-4321-bab1-da846e1796db",
   "metadata": {},
   "source": [
    "# Spread (`...`)\n",
    "\n",
    "O operador de spread é utilizado para expandir arrays e objetos.\n",
    "\n",
    "## Exemplo:"
   ]
  },
  {
   "cell_type": "code",
   "execution_count": null,
   "id": "b8fbc6e8-a873-4134-b852-d4efca661bd8",
   "metadata": {},
   "outputs": [
    {
     "data": {
      "text/plain": [
       "'Os dois arrays combinados: 1,2,3,4,5,6'"
      ]
     },
     "execution_count": 27,
     "metadata": {},
     "output_type": "execute_result"
    }
   ],
   "source": [
    "let numbers1: number[] = [1, 2, 3];\n",
    "let numbers2: number[] = [4, 5, 6];\n",
    "\n",
    "// Combinando dois arrays\n",
    "let combined: number[] = [...numbers1, ...numbers2];\n",
    "`Os dois arrays combinados: ${combined}`; // Output: [1, 2, 3, 4, 5, 6]"
   ]
  },
  {
   "cell_type": "code",
   "execution_count": null,
   "id": "a5a401d5-9512-48a6-af57-e7e0dd1e52b2",
   "metadata": {},
   "outputs": [
    {
     "name": "stdout",
     "output_type": "stream",
     "text": [
      "{\n",
      "  nome: 'João',\n",
      "  idade: 25,\n",
      "  marca: 'Volkswagen',\n",
      "  modelo: 'SUV',\n",
      "  placa: 'BLK-5509'\n",
      "}\n"
     ]
    },
    {
     "data": {
      "text/plain": [
       "'Entregador'"
      ]
     },
     "execution_count": 28,
     "metadata": {},
     "output_type": "execute_result"
    }
   ],
   "source": [
    "let pessoa = {nome: \"João\", idade: 25};\n",
    "let veiculo = {marca: \"Volkswagen\", modelo: \"SUV\", placa: \"BLK-5509\" };\n",
    "\n",
    "// Combinando objetos\n",
    "let entregador = {...pessoa, ...veiculo};\n",
    "console.log(entregador);\n",
    "`Entregador`;"
   ]
  },
  {
   "cell_type": "code",
   "execution_count": null,
   "id": "a51c6619-d786-47b1-8233-5b154c1bb1ae",
   "metadata": {},
   "outputs": [
    {
     "name": "stdout",
     "output_type": "stream",
     "text": [
      "{\n",
      "  nome: 'João',\n",
      "  idade: 25,\n",
      "  marca: 'Volkswagen',\n",
      "  modelo: 'SUV',\n",
      "  placa: 'KLM-4565'\n",
      "}\n"
     ]
    },
    {
     "data": {
      "text/plain": [
       "'Entregador com nova placa'"
      ]
     },
     "execution_count": 29,
     "metadata": {},
     "output_type": "execute_result"
    }
   ],
   "source": [
    "// Atualizando objeto\n",
    "let novoEntregador = {...entregador, placa: \"KLM-4565\"};\n",
    "console.log(novoEntregador);\n",
    "`Entregador com nova placa`;"
   ]
  },
  {
   "cell_type": "markdown",
   "id": "e6557b5b-3579-48c3-92d4-532c769747db",
   "metadata": {},
   "source": [
    "## Função genérica para verificar se todos os multisets fornecidos são iguais utilizando Spread"
   ]
  },
  {
   "cell_type": "code",
   "execution_count": null,
   "id": "c5ebbd3c-ec12-4ec4-a5d9-0fb2e7dc4d48",
   "metadata": {},
   "outputs": [
    {
     "data": {
      "text/plain": [
       "'Igualdade entre multiset A, B e C: true'"
      ]
     },
     "execution_count": 30,
     "metadata": {},
     "output_type": "execute_result"
    }
   ],
   "source": [
    "function areMultisetsEqualSpread<T>(...multisets: Multiset<T>[]): boolean {\n",
    "    let result = true;\n",
    "    if (multisets.length >= 2) {\n",
    "    // Obtemos o primeiro multiset para comparação\n",
    "        const reference = multisets[0];\n",
    "\n",
    "    // Comparamos o primeiro multiset com todos os outros\n",
    "        for (const multiset of multisets.slice(1)) {\n",
    "            if (!areMultisetsEqual(reference, multiset)) {\n",
    "                result = false; // Se qualquer multiset for diferente, retornamos false\n",
    "            }\n",
    "        }\n",
    "    }\n",
    "    return result;\n",
    "}\n",
    "\n",
    "multisetC.add(\"batata\");\n",
    "\n",
    "let show1 = areMultisetsEqualSpread(multisetA, multisetB, multisetC); // Output: true\n",
    "`Igualdade entre multiset A, B e C: ${show1}`;"
   ]
  },
  {
   "cell_type": "code",
   "execution_count": null,
   "id": "9e8843e5-d73c-441f-b953-cc9da1124aef",
   "metadata": {},
   "outputs": [],
   "source": [
    "const multisetD = new Multiset<string>();\n",
    "multisetD.add('batata');\n",
    "multisetD.add('abacate');\n",
    "\n",
    "let show1 = areMultisetsEqualSpread(multisetA, multisetB, multisetC, multisetD); // false\n",
    "`Igualdade entre multiset A, B, C, D: ${show2}`;"
   ]
  }
 ],
 "metadata": {
  "kernelspec": {
   "display_name": "Typescript 4.9",
   "language": "typescript",
   "name": "typescript"
  },
  "language_info": {
   "file_extension": ".ts",
   "mimetype": "application/x-typescript",
   "name": "typescript",
   "version": "4.9.5"
  }
 },
 "nbformat": 4,
 "nbformat_minor": 5
}
