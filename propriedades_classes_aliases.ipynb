{
 "cells": [
  {
   "cell_type": "markdown",
   "metadata": {},
   "source": [
    "# Interfaces\n",
    "\n",
    "Interfaces definem como deve ser a estrutura de um objeto que a implementa."
   ]
  },
  {
   "cell_type": "code",
   "execution_count": 5,
   "metadata": {},
   "outputs": [
    {
     "name": "stdout",
     "output_type": "stream",
     "text": [
      "undefined\n"
     ]
    }
   ],
   "source": [
    "interface Person {\n",
    "    name: string,\n",
    "    surname: string,\n",
    "    age: number\n",
    "}\n",
    "\n",
    "const person: Person = { name: \"Vitor\", surname: \"Santos\", age: 21 };\n",
    "const anotherPerson: Person = { name: \"Fubar\" }; // Roda normalmente, mas o compilador reclama."
   ]
  },
  {
   "cell_type": "markdown",
   "metadata": {},
   "source": [
    "## Propriedades opcionais\n",
    "\n",
    "Propriedades opcionais são propriedades que não precisam ser defenidas se o programador não quiser. Se os campos não forem inicializados, então os valores desses campos serão `undefined`. "
   ]
  },
  {
   "cell_type": "code",
   "execution_count": 8,
   "metadata": {},
   "outputs": [
    {
     "name": "stdout",
     "output_type": "stream",
     "text": [
      "undefined\n",
      "Laurentino\n"
     ]
    }
   ],
   "source": [
    "interface Person {\n",
    "    name: string,\n",
    "    surname: string,\n",
    "    middleName?: string,\n",
    "    age: number\n",
    "}\n",
    "\n",
    "const person: Person = { name: \"Vitor\", surname: \"Santos\", age: 21 };\n",
    "const person2: Person = { name: \"Vitor\", surname: \"Santos\", middleName: \"Laurentino\", age: 21 };\n",
    "\n",
    "console.log(person.middleName);\n",
    "console.log(person2.middleName);"
   ]
  },
  {
   "cell_type": "markdown",
   "metadata": {},
   "source": [
    "## Definindo métodos nas interfaces\n",
    "\n",
    "Podemos definir assinaturas de métodos nas interfaces."
   ]
  },
  {
   "cell_type": "code",
   "execution_count": 10,
   "metadata": {},
   "outputs": [
    {
     "name": "stdout",
     "output_type": "stream",
     "text": [
      "Vitor Laurentino Santos\n"
     ]
    }
   ],
   "source": [
    "interface Person {\n",
    "    name: string,\n",
    "    surname: string,\n",
    "    middleName?: string,\n",
    "    age: number,\n",
    "    getWholeName(): string\n",
    "}\n",
    "\n",
    "const person : Person = {\n",
    "    name: \"Vitor\",\n",
    "    surname: \"Santos\",\n",
    "    middleName: \"Laurentino\",\n",
    "    age: 21,\n",
    "    getWholeName: function() {\n",
    "        return `${this.name} ${this.middleName} ${this.surname}`;\n",
    "    }\n",
    "}\n",
    "\n",
    "console.log(person.getWholeName());"
   ]
  },
  {
   "cell_type": "markdown",
   "metadata": {},
   "source": [
    "## Propriedades Readonly\n",
    "\n",
    "Nós podemos fazer com que campos nos objetos se tornem readonly somente. Isso permite com que esses campos sejam somente para leitura, nunca escrita."
   ]
  },
  {
   "cell_type": "code",
   "execution_count": 12,
   "metadata": {},
   "outputs": [
    {
     "name": "stdout",
     "output_type": "stream",
     "text": [
      "Hebert\n"
     ]
    }
   ],
   "source": [
    "interface Person {\n",
    "    readonly name: string\n",
    "}\n",
    "\n",
    "const person: Person = {\n",
    "    name: \"Vitor\"\n",
    "}\n",
    "\n",
    "person.name = \"Hebert\"; // Mais uma vez, ele roda normalmente, mas o compilador reclama.\n",
    "\n",
    "console.log(person.name)"
   ]
  },
  {
   "cell_type": "markdown",
   "metadata": {},
   "source": [
    "## Assinatura de índices\n",
    "\n",
    "Podemos definir também como será o formato de um Array por exemplo, se soubermos como é o formato dos seus valores."
   ]
  },
  {
   "cell_type": "code",
   "execution_count": 16,
   "metadata": {},
   "outputs": [
    {
     "name": "stdout",
     "output_type": "stream",
     "text": [
      "a\n"
     ]
    }
   ],
   "source": [
    "interface StringArray {\n",
    "    [index: number]: string\n",
    "}\n",
    "\n",
    "const arr = [\"A\", \"B\", \"C\"] as StringArray;\n",
    "\n",
    "console.log(arr[0].toLocaleLowerCase());"
   ]
  },
  {
   "cell_type": "markdown",
   "metadata": {},
   "source": [
    "## Type Assertion\n",
    "\n",
    "Nós podemos especificar o tipo de um objeto usando type assertion."
   ]
  },
  {
   "cell_type": "code",
   "execution_count": 17,
   "metadata": {},
   "outputs": [
    {
     "name": "stdout",
     "output_type": "stream",
     "text": [
      "Vitor\n"
     ]
    }
   ],
   "source": [
    "interface Person {\n",
    "    readonly name: string\n",
    "}\n",
    "\n",
    "const person = {\n",
    "    name: \"Vitor\",\n",
    "    surname: \"Santos\"\n",
    "} as Person;\n",
    "\n",
    "console.log(person.name);"
   ]
  },
  {
   "cell_type": "markdown",
   "metadata": {},
   "source": [
    "## Generics e Extendendo outros tipos\n",
    "\n",
    "Nós podemos fazer com que nossa interface extenda um outro tipo.\n",
    "\n",
    "Além disso, podemos usar generics nas interfaces também."
   ]
  },
  {
   "cell_type": "code",
   "execution_count": 19,
   "metadata": {},
   "outputs": [
    {
     "name": "stdout",
     "output_type": "stream",
     "text": [
      "{ name: \"Vitor\", company: \"UFCG\", phone: 83999999999 }\n"
     ]
    }
   ],
   "source": [
    "interface Person {\n",
    "    name: string\n",
    "}\n",
    "\n",
    "interface BusinessMan<Type> extends Person {\n",
    "    company: Type,\n",
    "    phone: number\n",
    "}\n",
    "\n",
    "const person : BusinessMan<\"UFCG\"> = {\n",
    "    name: \"Vitor\",\n",
    "    company: \"UFCG\",\n",
    "    phone: 83999999999\n",
    "};\n",
    "\n",
    "console.log(person);"
   ]
  },
  {
   "cell_type": "markdown",
   "metadata": {},
   "source": [
    "# Classes\n",
    "\n",
    "Nós podemos criar classes em Typescript."
   ]
  },
  {
   "cell_type": "code",
   "execution_count": 22,
   "metadata": {},
   "outputs": [
    {
     "name": "stdout",
     "output_type": "stream",
     "text": [
      "Person { name: \"Vitor\", surname: \"Santos\" }\n"
     ]
    }
   ],
   "source": [
    "class Person {\n",
    "    name: string;\n",
    "    surname: string;\n",
    "\n",
    "    constructor(name: string, surname: string) {\n",
    "        this.name = name;\n",
    "        this.surname = surname;\n",
    "    }\n",
    "}\n",
    "\n",
    "console.log(new Person(\"Vitor\", \"Santos\"));"
   ]
  },
  {
   "cell_type": "markdown",
   "metadata": {},
   "source": [
    "## Métodos"
   ]
  },
  {
   "cell_type": "code",
   "execution_count": 26,
   "metadata": {},
   "outputs": [
    {
     "name": "stdout",
     "output_type": "stream",
     "text": [
      "Vitor Santos\n"
     ]
    }
   ],
   "source": [
    "class Person {\n",
    "    name: string;\n",
    "    surname: string;\n",
    "\n",
    "    constructor(name: string, surname: string) {\n",
    "        this.name = name;\n",
    "        this.surname = surname;\n",
    "    }\n",
    "    \n",
    "    getFullName(): string {\n",
    "        return `${this.name} ${this.surname}`;\n",
    "    }\n",
    "}\n",
    "\n",
    "console.log(new Person(\"Vitor\", \"Santos\").getFullName());"
   ]
  },
  {
   "cell_type": "markdown",
   "metadata": {},
   "source": [
    "### Getters and Setters\n",
    "\n",
    "Nós podemos definir alguns Getters e Setters para algumas propriedades. Assim, nós podemos também podemos criar campos da classe que são dinamicamente calculados."
   ]
  },
  {
   "cell_type": "code",
   "execution_count": 32,
   "metadata": {},
   "outputs": [
    {
     "name": "stdout",
     "output_type": "stream",
     "text": [
      "Vitor Santos\n",
      "HEBERT Santos\n"
     ]
    }
   ],
   "source": [
    "class Person {\n",
    "    name: string;\n",
    "    surname: string;\n",
    "\n",
    "    constructor(name: string, surname: string) {\n",
    "        this.name = name;\n",
    "        this.surname = surname;\n",
    "    }\n",
    "    \n",
    "    get fullName(): string {\n",
    "        return `${this.name} ${this.surname}`;\n",
    "    }\n",
    "\n",
    "    set upperName(value: string): void {\n",
    "        this.name = value.toUpperCase();\n",
    "    }\n",
    "}\n",
    "\n",
    "const p = new Person(\"Vitor\", \"Santos\");\n",
    "console.log(p.fullName);\n",
    "p.upperName = \"Hebert\";\n",
    "console.log(p.fullName);\n"
   ]
  },
  {
   "cell_type": "markdown",
   "metadata": {},
   "source": [
    "## Modificadores de Visibilidade\n",
    "\n",
    "Podemos modificar a visibilidade dos métodos e campos da classe.\n",
    "\n",
    "As visibilidades podem ser:\n",
    "\n",
    "- Public\n",
    "    - Modificador padrão;\n",
    "- Protected\n",
    "    - Os campos marcados como protected só poderão ser acessados dentro da classe ou das subclasses.\n",
    "- Private\n",
    "    - Os campos marcados como private só poderão ser acessados dentro da classe."
   ]
  },
  {
   "cell_type": "code",
   "execution_count": 34,
   "metadata": {},
   "outputs": [
    {
     "name": "stdout",
     "output_type": "stream",
     "text": [
      "Vitor Santos\n",
      "Hebert Santos\n"
     ]
    }
   ],
   "source": [
    "class Person {\n",
    "    name: string;\n",
    "    surname: string;\n",
    "    private age: number;\n",
    "\n",
    "    constructor(name: string, surname: string, age: number) {\n",
    "        this.name = name;\n",
    "        this.surname = surname;\n",
    "        this.age = age;\n",
    "    }\n",
    "    \n",
    "    get fullName(): string {\n",
    "        return `${this.name} ${this.surname}`;\n",
    "    }\n",
    "\n",
    "    get age(): string {\n",
    "        return this.age;\n",
    "    }\n",
    "}\n",
    "\n",
    "const p = new Person(\"Vitor\", \"Santos\");\n",
    "console.log(p.fullName);\n",
    "console.log(p.name);"
   ]
  },
  {
   "cell_type": "markdown",
   "metadata": {},
   "source": [
    "## Parameter properties\n",
    "\n",
    "Nós podemos abstrair a definição dos campos da classe, caso os valores que são recebidos no construtor sejam iguais aos nomes dos campos da classe."
   ]
  },
  {
   "cell_type": "code",
   "execution_count": 24,
   "metadata": {},
   "outputs": [
    {
     "name": "stdout",
     "output_type": "stream",
     "text": [
      "Person { name: \"Vitor\", surname: \"Santos\" }\n"
     ]
    }
   ],
   "source": [
    "class Person {\n",
    "    constructor(public name: string, private surname: string) { }\n",
    "}\n",
    "\n",
    "console.log(new Person(\"Vitor\", \"Santos\"));"
   ]
  },
  {
   "cell_type": "markdown",
   "metadata": {},
   "source": [
    "## Generics, implementando interfaces, herança e this\n",
    "\n",
    "Assim como nas interfaces, podemos usar generics também. Além disso, podemos fazer com que uma classe implemente uma interface e que uma classe herde de outra os seus campos e métodos."
   ]
  },
  {
   "cell_type": "code",
   "execution_count": 35,
   "metadata": {},
   "outputs": [
    {
     "name": "stdout",
     "output_type": "stream",
     "text": [
      "Person {\n",
      "  name: \"Vitor\",\n",
      "  surname: \"Santos\",\n",
      "  family: \"Hominidae\",\n",
      "  gender: \"Homo\",\n",
      "  specie: \"Sapien\"\n",
      "}\n",
      "Homo Sapien\n"
     ]
    }
   ],
   "source": [
    "interface LivingBeing<Type> {\n",
    "    family: Type,\n",
    "    gender: string,\n",
    "    specie: string\n",
    "}\n",
    "\n",
    "class Person implements LivingBeing<\"Hominidae\"> {\n",
    "    family: \"Hominidae\" = \"Hominidae\";\n",
    "    gender: string = \"Homo\";\n",
    "    specie: string = \"Sapien\"\n",
    "\n",
    "    constructor(\n",
    "        public name: string,\n",
    "        public surname: string\n",
    "    ) { }\n",
    "\n",
    "    get fullSpecie(): string {\n",
    "        return `${this.gender} ${this.specie}`;\n",
    "    }\n",
    "}\n",
    "\n",
    "console.log(new Person(\"Vitor\", \"Santos\"))\n",
    "console.log(new Person(\"Vitor\", \"Santos\").fullSpecie)"
   ]
  },
  {
   "cell_type": "code",
   "execution_count": 37,
   "metadata": {},
   "outputs": [
    {
     "name": "stdout",
     "output_type": "stream",
     "text": [
      "Person { name: \"Vitor\", surname: \"Santos\", cpf: 12345678910 }\n",
      "BusinessMan {\n",
      "  name: \"Vitor\",\n",
      "  surname: \"Santos\",\n",
      "  cpf: 12345678910,\n",
      "  company: \"UFCG\",\n",
      "  phone: 83999999999\n",
      "}\n",
      "BusinessMan {\n",
      "  name: \"Vitor\",\n",
      "  surname: \"Santos\",\n",
      "  cpf: 12345678910,\n",
      "  company: \"UEPB\",\n",
      "  phone: 83999999999\n",
      "}\n"
     ]
    }
   ],
   "source": [
    "class Person {\n",
    "    constructor(\n",
    "        public name: string,\n",
    "        public surname: string,\n",
    "        protected cpf: number\n",
    "    ) {}\n",
    "}\n",
    "\n",
    "class BusinessMan extends Person {\n",
    "    constructor(\n",
    "        public name: string,\n",
    "        public surname: string,\n",
    "        protected cpf: number,\n",
    "        public company: string,\n",
    "        public phone: number\n",
    "    ) {\n",
    "        super(name, surname, cpf);\n",
    "    }\n",
    "}\n",
    "\n",
    "const p = new Person(\"Vitor\", \"Santos\", 12345678910);\n",
    "const bm = new BusinessMan(\"Vitor\", \"Santos\", 12345678910, \"UFCG\", 83999999999);\n",
    "console.log(p);\n",
    "console.log(bm);"
   ]
  },
  {
   "cell_type": "code",
   "execution_count": 41,
   "metadata": {},
   "outputs": [
    {
     "name": "stdout",
     "output_type": "stream",
     "text": [
      "Pet { name: \"Dalila\", age: 0, sex: \"Female\" }\n"
     ]
    }
   ],
   "source": [
    "class Pet {\n",
    "    constructor(\n",
    "        public name: string,\n",
    "        public age: number,\n",
    "        public sex: \"Male\" | \"Female\"\n",
    "    ) { }\n",
    "\n",
    "    mate(pet: this, malePupName: string, femalePupName: string) {\n",
    "        type Sex = \"Male\" | \"Female\";\n",
    "        const newSex : Sex = [\"Male\", \"Female\"][Math.round(Math.random())] as Sex;\n",
    "        if (pet.sex !== this.sex) {\n",
    "            return new Pet(newSex === \"Male\" ? malePupName : femalePupName, 0, newSex);\n",
    "        }\n",
    "\n",
    "        return \"Uncompatible\";\n",
    "    }\n",
    "}\n",
    "\n",
    "const p1 = new Pet(\"Rex\", 12, \"Male\");\n",
    "const p2 = new Pet(\"Daphne\", 10, \"Female\");\n",
    "\n",
    "console.log(p1.mate(p2, \"Sansão\", \"Dalila\"));"
   ]
  },
  {
   "cell_type": "markdown",
   "metadata": {},
   "source": [
    "## Classes e métodos abstratos\n",
    "\n",
    "Podemos definir métodos e classes abstratas também."
   ]
  },
  {
   "cell_type": "code",
   "execution_count": null,
   "metadata": {},
   "outputs": [],
   "source": [
    "abstract class Person {\n",
    "    constructor(\n",
    "        public name: string,\n",
    "        public surname: string,\n",
    "        protected cpf: number\n",
    "    ) {}\n",
    "\n",
    "    abstract get fullName(): string;\n",
    "}\n",
    "\n",
    "class BusinessMan extends Person {\n",
    "    constructor(\n",
    "        public name: string,\n",
    "        public surname: string,\n",
    "        protected cpf: number,\n",
    "        public company: string,\n",
    "        public phone: number\n",
    "    ) {\n",
    "        super(name, surname, cpf);\n",
    "    }\n",
    "\n",
    "    get fullName(): string {\n",
    "        return `${this.name} ${this.surname}`;\n",
    "    }\n",
    "}\n",
    "\n",
    "console.log(new BusinessMan(\"Vitor\", \"Santos\", 12345678910, \"UFCG\", 123456789).fullName);"
   ]
  },
  {
   "cell_type": "markdown",
   "metadata": {},
   "source": [
    "# Type Aliases\n",
    "\n",
    "Podemos apelidar tipos já existentes com outros nomes para usarmos futuramente. Por exemplo, podemos nomear a união de dois tipos."
   ]
  },
  {
   "cell_type": "code",
   "execution_count": null,
   "metadata": {},
   "outputs": [],
   "source": [
    "type Direction = \"Left\" | \"Right\";"
   ]
  }
 ],
 "metadata": {
  "kernelspec": {
   "display_name": "Deno",
   "language": "typescript",
   "name": "deno"
  },
  "language_info": {
   "codemirror_mode": "typescript",
   "file_extension": ".ts",
   "mimetype": "text/x.typescript",
   "name": "typescript",
   "nbconvert_exporter": "script",
   "pygments_lexer": "typescript",
   "version": "5.5.2"
  }
 },
 "nbformat": 4,
 "nbformat_minor": 2
}
