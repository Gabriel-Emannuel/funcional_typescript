{
 "cells": [
  {
   "cell_type": "markdown",
   "id": "d0752ec0-d049-4b60-9922-24f5077cd315",
   "metadata": {},
   "source": [
    "# Higher order function\n",
    "\n",
    "- Uma **Função de alta ordem** (ou **Higher order function**, HOF) é uma função que possui como parâmetros formais outras funções (também podem ser chamadas de callback functions de acordo com seu objetivo) ou que retornam funções. Basicamente, é possível afirmar que elas são consequências da capacidade de uma linguagem de programação qualquer poder tratar funções como valores de primeira classe.\n",
    "\n",
    "**HOFs que recebem função como argumento:**\n",
    "\n",
    "- Um exemplo clássico de função de alta ordem é uma função que aplica uma operação a todos os elementos de um conjunto:"
   ]
  },
  {
   "cell_type": "code",
   "execution_count": 1,
   "id": "5611e7b6-1127-48a9-8beb-7b4d43233bce",
   "metadata": {},
   "outputs": [
    {
     "data": {
      "text/plain": [
       "[ 1, 2, 3 ]"
      ]
     },
     "execution_count": 1,
     "metadata": {},
     "output_type": "execute_result"
    }
   ],
   "source": [
    "const map = <T>(callback: Function, elements: Iterable<T>): T[] => {\n",
    "    const mappedElements: T[] = [];\n",
    "    \n",
    "    for (const element of elements) {\n",
    "        mappedElements.push(callback(element));\n",
    "    }\n",
    "\n",
    "    return mappedElements\n",
    "}\n",
    "\n",
    "const arr: number[] = [-1, 2, -3]\n",
    "map(Math.abs, arr)"
   ]
  },
  {
   "cell_type": "markdown",
   "id": "2607c0d9-52da-42df-aeab-71259855d761",
   "metadata": {},
   "source": [
    "**HOFs que retornam uma função como resultado:**\n",
    "- É possível separar esses HOFs em algumas novas classificações, embora essa diferença seja meramente semântica e não haja muita diferença prática no código. A exemplo temos:\n",
    "  \n",
    "  * HOFs para extensão de funcionalidade (functionality-wrapping): Nesse tipo de HOF, a funcionalidade original da operação é mantida, mas adiciona-se novos recursos à operação.\n",
    "\n",
    "  * HOFs para alteração de funcionalidade (functionality-altering): Nesse tipo de HOF, a funcionalidade da operação é alterada. Um exemplo de HOF de alteração de funcionalidade é uma função que recebe uma função booleana como argumento e retorna uma outra função que computa sua negação.\n",
    "    \n",
    "  * HOFs para criação de funcionalidade (functionality-creating): Essas HOFs produzem funcionalidades totalmente novas."
   ]
  },
  {
   "cell_type": "code",
   "execution_count": 2,
   "id": "c31147a3-cf06-4703-b77c-e711f12e6529",
   "metadata": {},
   "outputs": [
    {
     "name": "stdout",
     "output_type": "stream",
     "text": [
      "[DEBUG] Resultado da invocação de negated_isNegative com os argumentos [ 2 ] : true\n",
      "[DEBUG] Resultado da invocação de map com os argumentos [ [Function: negated_isNegative], [ -1, 2, -3 ] ] : [ false, true, false ]\n"
     ]
    },
    {
     "data": {
      "text/plain": [
       "undefined"
      ]
     },
     "execution_count": 2,
     "metadata": {},
     "output_type": "execute_result"
    }
   ],
   "source": [
    "type BooleanFunction = (...args: any[]) => boolean;\n",
    "\n",
    "const not = (callback: BooleanFunction): BooleanFunction => {\n",
    "    const negatedFunction = (...args: any[]): boolean => !callback(...args);\n",
    "    \n",
    "    Object.defineProperty(negatedFunction, 'name', { value: `negated_${callback.name}` });\n",
    "\n",
    "    return negatedFunction\n",
    "};\n",
    "\n",
    "const isNegative = (num: number): boolean => {\n",
    "    return num < 0;\n",
    "}\n",
    "\n",
    "const addLogging = (callback: Function): Function => {\n",
    "    return (...args: any[]) => {\n",
    "            console.log(\"[DEBUG] Resultado da invocação de\", callback.name, \"com os argumentos\", args, \":\", callback(...args))\n",
    "        }\n",
    "    }\n",
    "\n",
    "addLogging(not(isNegative))(2)\n",
    "\n",
    "const isPositive: BooleanFunction = not(isNegative)\n",
    "\n",
    "const arr2: number[] = [-1, 2, -3];\n",
    "\n",
    "const mapLoggingWrapper = addLogging(map)\n",
    "\n",
    "mapLoggingWrapper(isPositive, arr2);"
   ]
  },
  {
   "cell_type": "markdown",
   "id": "c505c31a-c32e-4ee8-92d8-7ac71e0747e7",
   "metadata": {},
   "source": [
    "# Currificação\n",
    "\n",
    "## O que é Currificação?\n",
    "\n",
    "- Currificação (ou Currification) é um termo que designa uma técnica de programação funcional para aplicar a função de maneira parcial. Um exemplo disso, seria a função **somaTres(a: number, b: number, c: number** que poderia ser aplicada parcialmente para gerar a seguinte função **const somaDoisElementosAoNumero5 = somaTres(5)**. Seguindo esse exemplo, o resultado de invocar essa função com os argumentos 8 e 9 seria  **somaDoisElementosAoNumero5(8)(9) === 22**. Contudo, o TypeScript não tem suporte direto à currificação, porẽm podemos fazer algo bastante similar com ele. Veja o exemplo a seguir para currificação da função map que aceita dois elementos:\n"
   ]
  },
  {
   "cell_type": "code",
   "execution_count": 3,
   "id": "fdc3541e-f3fb-459f-b794-ce0effeb20b1",
   "metadata": {},
   "outputs": [
    {
     "name": "stdout",
     "output_type": "stream",
     "text": [
      "[ true, false, true, false ]\n",
      "[ false, true, false, false ]\n"
     ]
    },
    {
     "data": {
      "text/plain": [
       "22"
      ]
     },
     "execution_count": 3,
     "metadata": {},
     "output_type": "execute_result"
    }
   ],
   "source": [
    "const curryfy = (func: Function, ...existingArgs: any[]) => {\n",
    "  return (...args: any[]) => {\n",
    "    const totalArgs = [...existingArgs, ...args]\n",
    "    if(totalArgs.length >= func.length) {\n",
    "      return func(...totalArgs)\n",
    "    }\n",
    "    return curryfy(func, ...totalArgs)\n",
    "  }\n",
    "}\n",
    "\n",
    "const mapIsPositive = curryfy(map)(isPositive)\n",
    "\n",
    "console.log(mapIsPositive([3, -9, 2, -1]))\n",
    "console.log(mapIsPositive([-32, 25, -1, -1]))\n",
    "\n",
    "const somaTres = (a: number, b: number, c: number): number => {\n",
    "    return a + b + c;\n",
    "}\n",
    "\n",
    "const currifiedSomaTres = curryfy(somaTres)\n",
    "const somaDoisElementosAoNumero5 = currifiedSomaTres(5)\n",
    "\n",
    "somaDoisElementosAoNumero5(8)(9)"
   ]
  },
  {
   "cell_type": "markdown",
   "id": "7837a88c-6af9-4231-8224-c278abe62962",
   "metadata": {},
   "source": [
    "## Polimorfismo\n",
    "\n",
    "- Polimorfismo é um conceito de Ciência da Computação para designar interfaces que são modificadas dinamicamente, ou seja, ela pode assumir diferentes funcionalidades. São vários os tipos de polimorfismos, porém podemos classificá-los em dois tipos: Polimorfismo Ad-hoc, Polimorfismo Universal.\n",
    "\n",
    "## Polimorfismo Ad-hoc\n",
    "\n",
    "- O polimorfismo ad-hoc é caracterizado por possuir um número finito de variações e pode ser dividido em dois subtipos:\n",
    "\n",
    "  * Polimorfismo Ad-hoc de Sobrecarga - Ele permite que funções sejam distinguidas pelos tipos dos parâmetros formais. É resolvido estaticamente.\n",
    "  * Polimorfismo Ad-hoc de Coerção - Utiliza a definição da função para escolher o tipo de conversão.\n",
    "\n",
    "## Polimorfismo Universal\n",
    "\n",
    "- O polimorfismo ad-hoc é caracterizado por possuir um número infinito de variações e pode ser dividido em dois subtipos:\n",
    "\n",
    "  * Polimorfismo Ad-hoc Paramétrico\n",
    "  * Polimorfismo Ad-hoc de Subtipagem\n"
   ]
  },
  {
   "cell_type": "code",
   "execution_count": 1,
   "id": "788dddbb-8a0e-4500-96c1-bdccdb1bbd52",
   "metadata": {},
   "outputs": [
    {
     "name": "stdout",
     "output_type": "stream",
     "text": [
      "5 + 3 = 8\n",
      "'5' + '3' = 53\n"
     ]
    },
    {
     "data": {
      "text/plain": [
       "undefined"
      ]
     },
     "execution_count": 1,
     "metadata": {},
     "output_type": "execute_result"
    }
   ],
   "source": [
    "/*function add(x: number, y: number) {\n",
    "  return x + y;\n",
    "}\n",
    "\n",
    "function add(x: string, y: string) {\n",
    "    return x + y;\n",
    "}*/\n",
    "\n",
    "function add(x: number, y: number): number;\n",
    "function add(x: string, y: string): string;\n",
    "\n",
    "function add(x: number | string, y: number | string){\n",
    "    let result;\n",
    "    if (typeof x === 'number' && typeof y === 'number') {\n",
    "        result = x + y;\n",
    "    } else if (typeof x === 'string' && typeof y === 'string') {\n",
    "        result = x + y;\n",
    "    }\n",
    "\n",
    "    return result\n",
    "}\n",
    "\n",
    "console.log(`5 + 3 = ${add(5, 3)}`);\n",
    "console.log(`'5' + '3' = ${add(\"5\", \"3\")}`);"
   ]
  },
  {
   "cell_type": "code",
   "execution_count": 1,
   "id": "389aabb5-e8b5-4cad-ad77-c76f135d5d59",
   "metadata": {},
   "outputs": [
    {
     "name": "stdout",
     "output_type": "stream",
     "text": [
      "Circle with radius 5\n",
      "Area: 78.53981633974483\n",
      "Rectangle with width 4 and height 6\n",
      "Area: 24\n"
     ]
    },
    {
     "data": {
      "text/plain": [
       "undefined"
      ]
     },
     "execution_count": 1,
     "metadata": {},
     "output_type": "execute_result"
    }
   ],
   "source": [
    "interface Shape {\n",
    "    area(): number;\n",
    "}\n",
    "\n",
    "class Circle implements Shape {\n",
    "    constructor(public radius: number) {}\n",
    "    area(): number {\n",
    "        return Math.PI * this.radius ** 2;\n",
    "    }\n",
    "}\n",
    "\n",
    "class Rectangle implements Shape {\n",
    "    constructor(public width: number, public height: number) {}\n",
    "    area(): number {\n",
    "        return this.width * this.height;\n",
    "    }\n",
    "}\n",
    "\n",
    "function isCircle(shape: Shape): shape is Circle {\n",
    "    return (shape as Circle).radius !== undefined;\n",
    "}\n",
    "\n",
    "function isRectangle(shape: Shape): shape is Rectangle {\n",
    "    return (shape as Rectangle).width !== undefined && (shape as Rectangle).height !== undefined;\n",
    "}\n",
    "\n",
    "function printArea(shape: Shape): void {\n",
    "    console.log(`Area: ${shape.area()}`);\n",
    "}\n",
    "\n",
    "function printShapeDetails(shape: Shape): void {\n",
    "    if (isCircle(shape)) {\n",
    "        console.log(`Circle with radius ${shape.radius}`);\n",
    "    } else if (isRectangle(shape)) {\n",
    "        console.log(`Rectangle with width ${shape.width} and height ${shape.height}`);\n",
    "    }\n",
    "    printArea(shape);\n",
    "}\n",
    "\n",
    "const shapes: Shape[] = [\n",
    "    new Circle(5),\n",
    "    new Rectangle(4, 6)\n",
    "];\n",
    "\n",
    "shapes.forEach(printShapeDetails);\n"
   ]
  }
 ],
 "metadata": {
  "kernelspec": {
   "display_name": "Typescript 4.9",
   "language": "typescript",
   "name": "typescript"
  },
  "language_info": {
   "file_extension": ".ts",
   "mimetype": "application/x-typescript",
   "name": "typescript",
   "version": "4.9.5"
  }
 },
 "nbformat": 4,
 "nbformat_minor": 5
}
