{
 "cells": [
  {
   "cell_type": "code",
   "execution_count": 1,
   "id": "5611e7b6-1127-48a9-8beb-7b4d43233bce",
   "metadata": {
    "scrolled": true
   },
   "outputs": [
    {
     "data": {
      "text/plain": [
       "'use strict'"
      ]
     },
     "execution_count": 1,
     "metadata": {},
     "output_type": "execute_result"
    }
   ],
   "source": [
    "class Multiset<T> {\n",
    "    private elements: Map<T, number>;\n",
    "\n",
    "    constructor() {\n",
    "        this.elements = new Map<T, number>();\n",
    "    }\n",
    "\n",
    "    exists(element: T): boolean {\n",
    "        return this.elements.has(element);\n",
    "    }\n",
    "\n",
    "    add(element: T): void {\n",
    "        if (this.exists(element)) {\n",
    "            this.elements.set(element, this.elements.get(element)! + 1);\n",
    "        } else {\n",
    "            this.elements.set(element, 1);\n",
    "        }\n",
    "    }\n",
    "\n",
    "    remove(element: T): boolean {\n",
    "        if (this.exists(element)) {\n",
    "            const count = this.elements.get(element)!;\n",
    "            if (count > 1) {\n",
    "                this.elements.set(element, count - 1);\n",
    "            } else {\n",
    "                this.elements.delete(element);\n",
    "            }\n",
    "            return true;\n",
    "        }\n",
    "        return false;\n",
    "    }\n",
    "\n",
    "    count(element: T): number {\n",
    "        return this.elements.get(element) || 0;\n",
    "    }\n",
    "\n",
    "    size(): number {\n",
    "        let total = 0;\n",
    "        for (const count of this.elements.values()) {\n",
    "            total += count;\n",
    "        }\n",
    "        return total;\n",
    "    }\n",
    "}"
   ]
  },
  {
   "cell_type": "code",
   "execution_count": 3,
   "id": "99e943c2-c6ea-4891-b60d-99c97dd5594c",
   "metadata": {},
   "outputs": [
    {
     "ename": "Error",
     "evalue": "Conflict with a committed line: \nconst multiset = new Multiset<string>();\n______^\nTS2451: Cannot redeclare block-scoped variable 'multiset'.\n\nLine 1, Character 7\nconst multiset = new Multiset<string>();\n______^\nTS2451: Cannot redeclare block-scoped variable 'multiset'.",
     "execution_count": 3,
     "output_type": "error",
     "traceback": [
      "Error: Conflict with a committed line: ",
      "const multiset = new Multiset<string>();",
      "______^",
      "TS2451: Cannot redeclare block-scoped variable 'multiset'.",
      "",
      "Line 1, Character 7",
      "const multiset = new Multiset<string>();",
      "______^",
      "TS2451: Cannot redeclare block-scoped variable 'multiset'.",
      "    at execTranspile (/home/wendell/.nvm/versions/node/v20.17.0/lib/node_modules/itypescript/lib/kernel.js:229:23)",
      "    at Session.transpiler [as transpile] (/home/wendell/.nvm/versions/node/v20.17.0/lib/node_modules/itypescript/lib/kernel.js:288:35)",
      "    at Session._runNow (/home/wendell/.nvm/versions/node/v20.17.0/lib/node_modules/itypescript/node_modules/nel/lib/nel.js:835:39)",
      "    at Session._run (/home/wendell/.nvm/versions/node/v20.17.0/lib/node_modules/itypescript/node_modules/nel/lib/nel.js:786:14)",
      "    at Session.execute (/home/wendell/.nvm/versions/node/v20.17.0/lib/node_modules/itypescript/node_modules/nel/lib/nel.js:929:10)",
      "    at Kernel.execute_request (/home/wendell/.nvm/versions/node/v20.17.0/lib/node_modules/itypescript/node_modules/jp-kernel/lib/handlers_v5.js:116:18)",
      "    at Kernel.onShellMessage (/home/wendell/.nvm/versions/node/v20.17.0/lib/node_modules/itypescript/node_modules/jp-kernel/lib/jp-kernel.js:285:41)",
      "    at Socket.<anonymous> (/home/wendell/.nvm/versions/node/v20.17.0/lib/node_modules/itypescript/node_modules/jmp/index.js:350:17)",
      "    at Socket.emit (node:events:519:28)",
      "    at Socket._emitMessage (/home/wendell/.nvm/versions/node/v20.17.0/lib/node_modules/itypescript/node_modules/zeromq/lib/index.js:649:15)"
     ]
    }
   ],
   "source": [
    "const multiset = new Multiset<string>();\n",
    "multiset.add(\"apple\");\n",
    "multiset.add(\"banana\");\n",
    "multiset.add(\"apple\");\n",
    "\n",
    "console.log(multiset.count(\"apple\")); \n",
    "console.log(multiset.count(\"banana\"));\n",
    "console.log(multiset.size());"
   ]
  },
  {
   "cell_type": "code",
   "execution_count": null,
   "id": "62eedf48-d055-4806-a3da-567f8f921afe",
   "metadata": {},
   "outputs": [],
   "source": []
  }
 ],
 "metadata": {
  "kernelspec": {
   "display_name": "Typescript 4.9",
   "language": "typescript",
   "name": "typescript"
  },
  "language_info": {
   "file_extension": ".ts",
   "mimetype": "application/x-typescript",
   "name": "typescript",
   "version": "4.9.5"
  }
 },
 "nbformat": 4,
 "nbformat_minor": 5
}
