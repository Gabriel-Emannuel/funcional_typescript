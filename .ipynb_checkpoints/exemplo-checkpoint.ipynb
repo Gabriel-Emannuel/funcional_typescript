{
 "cells": [
  {
   "cell_type": "code",
   "execution_count": 1,
   "metadata": {},
   "outputs": [
    {
     "data": {
      "text/html": [
       "<div style='background:#ffecb3;padding:1em;border-left:2px solid #ff6d00'><b>Configuration is not found!</b> Default configuration will be used: <pre>{\"module\":1,\"target\":1,\"moduleResolution\":2,\"esModuleInterop\":true}</pre></div>"
      ]
     },
     "execution_count": 1,
     "metadata": {},
     "output_type": "execute_result"
    }
   ],
   "source": [
    "function calcula_fibonnaci(termo: number): number {\n",
    "    \n",
    "    let termos_fibonnaci = [0, 1];\n",
    "\n",
    "    for (let i = 2; i <= termo; i++) {\n",
    "        termos_fibonnaci[i] = termos_fibonnaci[i-1] + termos_fibonnaci[i-2];\n",
    "    }\n",
    "\n",
    "    return termos_fibonnaci[termo];\n",
    "}"
   ]
  },
  {
   "cell_type": "code",
   "execution_count": 2,
   "metadata": {},
   "outputs": [
    {
     "data": {
      "text/plain": [
       "0"
      ]
     },
     "execution_count": 2,
     "metadata": {},
     "output_type": "execute_result"
    }
   ],
   "source": [
    "calcula_fibonnaci(0)"
   ]
  },
  {
   "cell_type": "code",
   "execution_count": 3,
   "metadata": {},
   "outputs": [
    {
     "data": {
      "text/plain": [
       "1"
      ]
     },
     "execution_count": 3,
     "metadata": {},
     "output_type": "execute_result"
    }
   ],
   "source": [
    "calcula_fibonnaci(1)"
   ]
  },
  {
   "cell_type": "code",
   "execution_count": 4,
   "metadata": {},
   "outputs": [
    {
     "data": {
      "text/plain": [
       "1"
      ]
     },
     "execution_count": 4,
     "metadata": {},
     "output_type": "execute_result"
    }
   ],
   "source": [
    "calcula_fibonnaci(2)"
   ]
  },
  {
   "cell_type": "code",
   "execution_count": 5,
   "metadata": {},
   "outputs": [
    {
     "data": {
      "text/plain": [
       "2"
      ]
     },
     "execution_count": 5,
     "metadata": {},
     "output_type": "execute_result"
    }
   ],
   "source": [
    "calcula_fibonnaci(3)"
   ]
  }
 ],
 "metadata": {
  "kernelspec": {
   "display_name": "Typescript 4.9",
   "language": "typescript",
   "name": "typescript"
  },
  "language_info": {
   "file_extension": ".ts",
   "mimetype": "application/x-typescript",
   "name": "typescript",
   "version": "4.9.5"
  }
 },
 "nbformat": 4,
 "nbformat_minor": 2
}
